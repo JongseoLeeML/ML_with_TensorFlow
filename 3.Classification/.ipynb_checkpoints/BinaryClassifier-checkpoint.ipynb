{
 "cells": [
  {
   "cell_type": "code",
   "execution_count": 1,
   "metadata": {},
   "outputs": [],
   "source": [
    "import tensorflow as tf\n",
    "import numpy as np\n",
    "from numpy.random import multivariate_normal, permutation\n",
    "import matplotlib.pyplot as plt\n",
    "import pandas as pd \n",
    "from pandas import DataFrame, Series"
   ]
  },
  {
   "cell_type": "code",
   "execution_count": 2,
   "metadata": {},
   "outputs": [],
   "source": [
    "# 난수 발생\n",
    "np.random.seed(20180427)"
   ]
  },
  {
   "cell_type": "code",
   "execution_count": 3,
   "metadata": {},
   "outputs": [
    {
     "data": {
      "text/plain": [
       "'\\nprint (mu0)\\nprint ()\\nprint (np.eye(2)* variance0)\\nprint ()\\nprint (data0)\\nprint ()\\nprint (df0)\\nprint ()\\nprint (df0)\\n'"
      ]
     },
     "execution_count": 3,
     "metadata": {},
     "output_type": "execute_result"
    }
   ],
   "source": [
    "n0 = 20 #사이즈 20개 난수 생성\n",
    "mu0 = [10,11] # n 차원 분포의 평균\n",
    "variance0 = 20 #\n",
    "# multivariate_normal(mean, cov[, size, check_valid, tol])\n",
    "# np.eye(2)\n",
    "# [[1. 0.]\n",
    "#  [0. 1.]]\n",
    "data0 = multivariate_normal(mu0, np.eye(2) * variance0, n0)\n",
    "df0 = DataFrame(data0, columns=['x1','x2'])\n",
    "df0['t']=0\n",
    "\"\"\"\n",
    "print (mu0)\n",
    "print ()\n",
    "print (np.eye(2)* variance0)\n",
    "print ()\n",
    "print (data0)\n",
    "print ()\n",
    "print (df0)\n",
    "print ()\n",
    "print (df0)\n",
    "\"\"\""
   ]
  },
  {
   "cell_type": "code",
   "execution_count": 4,
   "metadata": {},
   "outputs": [],
   "source": [
    "n1 = 15\n",
    "mu1 = [18,20]\n",
    "variance1 = 22\n",
    "\n",
    "data1 = multivariate_normal(mu1, np.eye(2)*variance1, n1)\n",
    "df1 = DataFrame(data1, columns=['x1','x2'])\n",
    "df1['t'] = 1\n",
    "\n",
    "#print (df1)"
   ]
  },
  {
   "cell_type": "code",
   "execution_count": 5,
   "metadata": {},
   "outputs": [],
   "source": [
    "df = pd.concat([df0,df1], ignore_index = True)\n",
    "train_set = df.reindex(permutation(df.index)).reset_index(drop=True)\n",
    "#train_set"
   ]
  },
  {
   "cell_type": "code",
   "execution_count": 6,
   "metadata": {},
   "outputs": [],
   "source": [
    "train_x = train_set[['x1','x2']].as_matrix()\n",
    "train_t = train_set['t'].as_matrix().reshape([len(train_set), 1])  # [35,1] 행렬로 변환"
   ]
  },
  {
   "cell_type": "code",
   "execution_count": 7,
   "metadata": {},
   "outputs": [],
   "source": [
    "# t = 1 인 확률을 구하는 식 \n",
    "x = tf.placeholder(tf.float32,[None,2])\n",
    "w = tf.Variable(tf.zeros([2,1]))\n",
    "w0 = tf.Variable(tf.zeros([1]))\n",
    "\n",
    "f = tf.matmul(x,w) + w0\n",
    "p = tf.sigmoid(f)\n"
   ]
  },
  {
   "cell_type": "code",
   "execution_count": 8,
   "metadata": {},
   "outputs": [],
   "source": [
    "# 오차 함수 와 트레이닝 알고리즘(경사하강법) 선언\n",
    "t = tf.placeholder(tf.float32,[None,1])\n",
    "costFunction = -tf.reduce_sum(t * tf.log(p) + (1-t)*tf.log(1-p))\n",
    "#trainOptimizer = tf.train.AdamOptimizer(learning_rate = 0.001)\n",
    "trainOptimizer = tf.train.AdamOptimizer()\n",
    "train = trainOptimizer.minimize(costFunction)\n"
   ]
  },
  {
   "cell_type": "code",
   "execution_count": 9,
   "metadata": {},
   "outputs": [],
   "source": [
    "# tf.sign(x)  x의 값에 따라 부호를 반환 음수 이면 -1, 0이면 0 양수이면 1 반환\n",
    "# tf.equal(x,y) x와 y 값이 같은지 bool 값 반환\n",
    "# tf.cast(x, dtype) 텐서 타입으로 형 변환 \n",
    "prediction = tf.equal(tf.sign(p-0.5), tf.sign(t-0.5))\n",
    "accuracy = tf.reduce_mean(tf.cast(prediction, tf.float32))"
   ]
  },
  {
   "cell_type": "code",
   "execution_count": 10,
   "metadata": {},
   "outputs": [],
   "source": [
    "sess = tf.Session()\n",
    "sess.run(tf.global_variables_initializer())"
   ]
  },
  {
   "cell_type": "code",
   "execution_count": 11,
   "metadata": {},
   "outputs": [
    {
     "name": "stdout",
     "output_type": "stream",
     "text": [
      "Step : 2000, cost(loss) : 16.837086 , accuracy : 0.914286\n",
      "Step : 4000, cost(loss) : 12.956228 , accuracy : 0.914286\n",
      "Step : 6000, cost(loss) : 10.605146 , accuracy : 0.914286\n",
      "Step : 8000, cost(loss) : 9.106233 , accuracy : 0.885714\n",
      "Step : 10000, cost(loss) : 8.134092 , accuracy : 0.885714\n",
      "Step : 12000, cost(loss) : 7.503965 , accuracy : 0.885714\n",
      "Step : 14000, cost(loss) : 7.101247 , accuracy : 0.885714\n",
      "Step : 16000, cost(loss) : 6.852186 , accuracy : 0.914286\n",
      "Step : 18000, cost(loss) : 6.708144 , accuracy : 0.914286\n",
      "Step : 20000, cost(loss) : 6.635507 , accuracy : 0.914286\n"
     ]
    }
   ],
   "source": [
    "itrNum = 0 \n",
    "for _ in range(20000):\n",
    "    itrNum += 1\n",
    "    trainValue, costFunctionValue, accuracyValue = sess.run([train, costFunction, accuracy], feed_dict = {x:train_x, t:train_t})\n",
    "    if (itrNum % 2000 == 0) :\n",
    "        print (\"Step : %d, cost(loss) : %f , accuracy : %f\" %(itrNum, costFunctionValue, accuracyValue))\n",
    "        "
   ]
  },
  {
   "cell_type": "code",
   "execution_count": 12,
   "metadata": {},
   "outputs": [
    {
     "name": "stdout",
     "output_type": "stream",
     "text": [
      "-15.210439 0.44210607 0.55269885\n",
      "-15.210439\n",
      "[[0.44210607]\n",
      " [0.55269885]]\n"
     ]
    }
   ],
   "source": [
    "w0Value, wValue = sess.run([w0,w])\n",
    "w0Value, w1Value, w2Value = w0Value[0], wValue[0][0], wValue[1][0]\n",
    "print(w0Value, w1Value, w2Value)\n",
    "\n",
    "print (w0Value)\n",
    "print (wValue)"
   ]
  },
  {
   "cell_type": "code",
   "execution_count": 13,
   "metadata": {},
   "outputs": [
    {
     "data": {
      "text/plain": [
       "<matplotlib.image.AxesImage at 0x13c44400>"
      ]
     },
     "execution_count": 13,
     "metadata": {},
     "output_type": "execute_result"
    },
    {
     "data": {
      "image/png": "[encoded data removed]",
      "text/plain": [
       "<Figure size 432x432 with 1 Axes>"
      ]
     },
     "metadata": {},
     "output_type": "display_data"
    }
   ],
   "source": [
    "train_set0 = train_set[train_set['t']==0]\n",
    "train_set1 = train_set[train_set['t']==1]\n",
    "\n",
    "fig = plt.figure(figsize=(6,6))\n",
    "subplot = fig.add_subplot(1,1,1)\n",
    "subplot.set_ylim([0,30])\n",
    "subplot.set_xlim([0,30])\n",
    "subplot.scatter(train_set1.x1, train_set1.x2, marker='x')\n",
    "subplot.scatter(train_set0.x1, train_set0.x2, marker='o')\n",
    "\n",
    "linex = np.linspace(0,30,10)\n",
    "liney = - (w1Value*linex/w2Value + w0Value/w2Value)\n",
    "subplot.plot(linex, liney)\n",
    "\n",
    "field = [[(1 / (1 + np.exp(-(w0Value + w1Value*x1 + w2Value*x2))))\n",
    "          for x1 in np.linspace(0,30,100)]\n",
    "         for x2 in np.linspace(0,30,100)]\n",
    "subplot.imshow(field, origin='lower', extent=(0,30,0,30),\n",
    "               cmap=plt.cm.gray_r, alpha=0.5)"
   ]
  },
  {
   "cell_type": "code",
   "execution_count": null,
   "metadata": {},
   "outputs": [],
   "source": []
  }
 ],
 "metadata": {
  "kernelspec": {
   "display_name": "Python 3",
   "language": "python",
   "name": "python3"
  },
  "language_info": {
   "codemirror_mode": {
    "name": "ipython",
    "version": 3
   },
   "file_extension": ".py",
   "mimetype": "text/x-python",
   "name": "python",
   "nbconvert_exporter": "python",
   "pygments_lexer": "ipython3",
   "version": "3.6.5"
  }
 },
 "nbformat": 4,
 "nbformat_minor": 2
}
