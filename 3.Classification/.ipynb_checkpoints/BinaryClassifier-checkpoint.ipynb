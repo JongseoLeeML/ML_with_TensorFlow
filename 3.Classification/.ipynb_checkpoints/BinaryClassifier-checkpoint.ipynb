{
 "cells": [
  {
   "cell_type": "markdown",
   "metadata": {},
   "source": [
    "필요한 라이브러리 모듈 가져오기"
   ]
  },
  {
   "cell_type": "code",
   "execution_count": 1,
   "metadata": {},
   "outputs": [],
   "source": [
    "import tensorflow as tf\n",
    "import numpy as np\n",
    "from numpy.random import multivariate_normal, permutation\n",
    "import matplotlib.pyplot as plt\n",
    "import pandas as pd \n",
    "from pandas import DataFrame, Series"
   ]
  },
  {
   "cell_type": "markdown",
   "metadata": {},
   "source": [
    "난수 생성"
   ]
  },
  {
   "cell_type": "code",
   "execution_count": 2,
   "metadata": {},
   "outputs": [],
   "source": [
    "np.random.seed(20180427)"
   ]
  },
  {
   "cell_type": "markdown",
   "metadata": {},
   "source": [
    "확률이 0 인 난수 선언\n",
    "* n : 난수의 갯수\n",
    "* mu : n 차원 분포의 평균\n",
    "* multivariate_normal(mean, cov[, size, check_valid, tol]) : 다변수 정규 분포에서 무작위로 샘플을 선언"
   ]
  },
  {
   "cell_type": "code",
   "execution_count": 3,
   "metadata": {},
   "outputs": [],
   "source": [
    "n0 = 20 \n",
    "mu0 = [10,11] \n",
    "variance0 = 20 \n",
    "\n",
    "data0 = multivariate_normal(mu0, np.eye(2) * variance0, n0)\n",
    "df0 = DataFrame(data0, columns=['x1','x2'])\n",
    "df0['t']=0"
   ]
  },
  {
   "cell_type": "markdown",
   "metadata": {},
   "source": [
    "확률이 1인 난수 선언"
   ]
  },
  {
   "cell_type": "code",
   "execution_count": 4,
   "metadata": {},
   "outputs": [],
   "source": [
    "n1 = 15\n",
    "mu1 = [18,20]\n",
    "variance1 = 22\n",
    "\n",
    "data1 = multivariate_normal(mu1, np.eye(2)*variance1, n1)\n",
    "df1 = DataFrame(data1, columns=['x1','x2'])\n",
    "df1['t'] = 1"
   ]
  },
  {
   "cell_type": "markdown",
   "metadata": {},
   "source": [
    "확률이 0 ,1 인 난수를 하나의 DataFrame에 저장"
   ]
  },
  {
   "cell_type": "code",
   "execution_count": 5,
   "metadata": {},
   "outputs": [
    {
     "data": {
      "text/html": [
       "<div>\n",
       "<style scoped>\n",
       "    .dataframe tbody tr th:only-of-type {\n",
       "        vertical-align: middle;\n",
       "    }\n",
       "\n",
       "    .dataframe tbody tr th {\n",
       "        vertical-align: top;\n",
       "    }\n",
       "\n",
       "    .dataframe thead th {\n",
       "        text-align: right;\n",
       "    }\n",
       "</style>\n",
       "<table border=\"1\" class=\"dataframe\">\n",
       "  <thead>\n",
       "    <tr style=\"text-align: right;\">\n",
       "      <th></th>\n",
       "      <th>x1</th>\n",
       "      <th>x2</th>\n",
       "      <th>t</th>\n",
       "    </tr>\n",
       "  </thead>\n",
       "  <tbody>\n",
       "    <tr>\n",
       "      <th>0</th>\n",
       "      <td>13.754760</td>\n",
       "      <td>6.206215</td>\n",
       "      <td>0</td>\n",
       "    </tr>\n",
       "    <tr>\n",
       "      <th>1</th>\n",
       "      <td>14.160872</td>\n",
       "      <td>11.479040</td>\n",
       "      <td>0</td>\n",
       "    </tr>\n",
       "    <tr>\n",
       "      <th>2</th>\n",
       "      <td>15.878563</td>\n",
       "      <td>19.072807</td>\n",
       "      <td>1</td>\n",
       "    </tr>\n",
       "    <tr>\n",
       "      <th>3</th>\n",
       "      <td>15.718922</td>\n",
       "      <td>18.768468</td>\n",
       "      <td>1</td>\n",
       "    </tr>\n",
       "    <tr>\n",
       "      <th>4</th>\n",
       "      <td>8.503453</td>\n",
       "      <td>21.703925</td>\n",
       "      <td>0</td>\n",
       "    </tr>\n",
       "    <tr>\n",
       "      <th>5</th>\n",
       "      <td>12.505810</td>\n",
       "      <td>17.218799</td>\n",
       "      <td>0</td>\n",
       "    </tr>\n",
       "    <tr>\n",
       "      <th>6</th>\n",
       "      <td>-2.193010</td>\n",
       "      <td>5.355987</td>\n",
       "      <td>0</td>\n",
       "    </tr>\n",
       "    <tr>\n",
       "      <th>7</th>\n",
       "      <td>7.679615</td>\n",
       "      <td>14.474577</td>\n",
       "      <td>0</td>\n",
       "    </tr>\n",
       "    <tr>\n",
       "      <th>8</th>\n",
       "      <td>14.027264</td>\n",
       "      <td>16.895398</td>\n",
       "      <td>1</td>\n",
       "    </tr>\n",
       "    <tr>\n",
       "      <th>9</th>\n",
       "      <td>12.155246</td>\n",
       "      <td>20.938471</td>\n",
       "      <td>1</td>\n",
       "    </tr>\n",
       "    <tr>\n",
       "      <th>10</th>\n",
       "      <td>4.504210</td>\n",
       "      <td>7.936826</td>\n",
       "      <td>0</td>\n",
       "    </tr>\n",
       "    <tr>\n",
       "      <th>11</th>\n",
       "      <td>10.779215</td>\n",
       "      <td>9.565232</td>\n",
       "      <td>0</td>\n",
       "    </tr>\n",
       "    <tr>\n",
       "      <th>12</th>\n",
       "      <td>18.316121</td>\n",
       "      <td>5.988871</td>\n",
       "      <td>0</td>\n",
       "    </tr>\n",
       "    <tr>\n",
       "      <th>13</th>\n",
       "      <td>5.459960</td>\n",
       "      <td>5.137036</td>\n",
       "      <td>0</td>\n",
       "    </tr>\n",
       "    <tr>\n",
       "      <th>14</th>\n",
       "      <td>1.918259</td>\n",
       "      <td>12.653268</td>\n",
       "      <td>0</td>\n",
       "    </tr>\n",
       "    <tr>\n",
       "      <th>15</th>\n",
       "      <td>27.478901</td>\n",
       "      <td>17.625194</td>\n",
       "      <td>1</td>\n",
       "    </tr>\n",
       "    <tr>\n",
       "      <th>16</th>\n",
       "      <td>13.338585</td>\n",
       "      <td>25.324695</td>\n",
       "      <td>1</td>\n",
       "    </tr>\n",
       "    <tr>\n",
       "      <th>17</th>\n",
       "      <td>8.210711</td>\n",
       "      <td>12.054576</td>\n",
       "      <td>0</td>\n",
       "    </tr>\n",
       "    <tr>\n",
       "      <th>18</th>\n",
       "      <td>10.949755</td>\n",
       "      <td>10.942836</td>\n",
       "      <td>0</td>\n",
       "    </tr>\n",
       "    <tr>\n",
       "      <th>19</th>\n",
       "      <td>15.163726</td>\n",
       "      <td>15.961117</td>\n",
       "      <td>1</td>\n",
       "    </tr>\n",
       "    <tr>\n",
       "      <th>20</th>\n",
       "      <td>10.465438</td>\n",
       "      <td>13.381031</td>\n",
       "      <td>0</td>\n",
       "    </tr>\n",
       "    <tr>\n",
       "      <th>21</th>\n",
       "      <td>23.414785</td>\n",
       "      <td>19.520207</td>\n",
       "      <td>1</td>\n",
       "    </tr>\n",
       "    <tr>\n",
       "      <th>22</th>\n",
       "      <td>17.878936</td>\n",
       "      <td>19.564539</td>\n",
       "      <td>1</td>\n",
       "    </tr>\n",
       "    <tr>\n",
       "      <th>23</th>\n",
       "      <td>7.618064</td>\n",
       "      <td>23.646358</td>\n",
       "      <td>1</td>\n",
       "    </tr>\n",
       "    <tr>\n",
       "      <th>24</th>\n",
       "      <td>22.820859</td>\n",
       "      <td>16.537986</td>\n",
       "      <td>1</td>\n",
       "    </tr>\n",
       "    <tr>\n",
       "      <th>25</th>\n",
       "      <td>18.210221</td>\n",
       "      <td>16.137722</td>\n",
       "      <td>0</td>\n",
       "    </tr>\n",
       "    <tr>\n",
       "      <th>26</th>\n",
       "      <td>4.667750</td>\n",
       "      <td>15.834131</td>\n",
       "      <td>0</td>\n",
       "    </tr>\n",
       "    <tr>\n",
       "      <th>27</th>\n",
       "      <td>20.810522</td>\n",
       "      <td>23.307041</td>\n",
       "      <td>1</td>\n",
       "    </tr>\n",
       "    <tr>\n",
       "      <th>28</th>\n",
       "      <td>15.642796</td>\n",
       "      <td>10.296243</td>\n",
       "      <td>0</td>\n",
       "    </tr>\n",
       "    <tr>\n",
       "      <th>29</th>\n",
       "      <td>18.418757</td>\n",
       "      <td>28.728613</td>\n",
       "      <td>1</td>\n",
       "    </tr>\n",
       "    <tr>\n",
       "      <th>30</th>\n",
       "      <td>11.489427</td>\n",
       "      <td>7.070215</td>\n",
       "      <td>0</td>\n",
       "    </tr>\n",
       "    <tr>\n",
       "      <th>31</th>\n",
       "      <td>14.428641</td>\n",
       "      <td>7.256483</td>\n",
       "      <td>0</td>\n",
       "    </tr>\n",
       "    <tr>\n",
       "      <th>32</th>\n",
       "      <td>4.557704</td>\n",
       "      <td>9.699946</td>\n",
       "      <td>0</td>\n",
       "    </tr>\n",
       "    <tr>\n",
       "      <th>33</th>\n",
       "      <td>15.416227</td>\n",
       "      <td>19.192054</td>\n",
       "      <td>1</td>\n",
       "    </tr>\n",
       "    <tr>\n",
       "      <th>34</th>\n",
       "      <td>14.140589</td>\n",
       "      <td>15.402706</td>\n",
       "      <td>1</td>\n",
       "    </tr>\n",
       "  </tbody>\n",
       "</table>\n",
       "</div>"
      ],
      "text/plain": [
       "           x1         x2  t\n",
       "0   13.754760   6.206215  0\n",
       "1   14.160872  11.479040  0\n",
       "2   15.878563  19.072807  1\n",
       "3   15.718922  18.768468  1\n",
       "4    8.503453  21.703925  0\n",
       "5   12.505810  17.218799  0\n",
       "6   -2.193010   5.355987  0\n",
       "7    7.679615  14.474577  0\n",
       "8   14.027264  16.895398  1\n",
       "9   12.155246  20.938471  1\n",
       "10   4.504210   7.936826  0\n",
       "11  10.779215   9.565232  0\n",
       "12  18.316121   5.988871  0\n",
       "13   5.459960   5.137036  0\n",
       "14   1.918259  12.653268  0\n",
       "15  27.478901  17.625194  1\n",
       "16  13.338585  25.324695  1\n",
       "17   8.210711  12.054576  0\n",
       "18  10.949755  10.942836  0\n",
       "19  15.163726  15.961117  1\n",
       "20  10.465438  13.381031  0\n",
       "21  23.414785  19.520207  1\n",
       "22  17.878936  19.564539  1\n",
       "23   7.618064  23.646358  1\n",
       "24  22.820859  16.537986  1\n",
       "25  18.210221  16.137722  0\n",
       "26   4.667750  15.834131  0\n",
       "27  20.810522  23.307041  1\n",
       "28  15.642796  10.296243  0\n",
       "29  18.418757  28.728613  1\n",
       "30  11.489427   7.070215  0\n",
       "31  14.428641   7.256483  0\n",
       "32   4.557704   9.699946  0\n",
       "33  15.416227  19.192054  1\n",
       "34  14.140589  15.402706  1"
      ]
     },
     "execution_count": 5,
     "metadata": {},
     "output_type": "execute_result"
    }
   ],
   "source": [
    "df = pd.concat([df0,df1], ignore_index = True)\n",
    "train_set = df.reindex(permutation(df.index)).reset_index(drop=True)\n",
    "train_set"
   ]
  },
  {
   "cell_type": "markdown",
   "metadata": {},
   "source": [
    "생성된 학습 모델을 train_x, train_t에 행렬로 저장"
   ]
  },
  {
   "cell_type": "code",
   "execution_count": 6,
   "metadata": {},
   "outputs": [],
   "source": [
    "train_x = train_set[['x1','x2']].as_matrix()\n",
    "train_t = train_set['t'].as_matrix().reshape([len(train_set), 1])  # [35,1] 행렬로 변환"
   ]
  },
  {
   "cell_type": "markdown",
   "metadata": {},
   "source": [
    "**1단계 수식작성**  난수들이 분포된 영역의 확률이 1인 수식 작성\n",
    "> * 수식에 의해 계산된 값을 sigmoid 함수를 통하여 값을 0~1 사이의 값(확률)으로 변경\n",
    "> * Sigmoid 함수 관련 설명 : http://taewan.kim/post/sigmoid_diff/"
   ]
  },
  {
   "cell_type": "code",
   "execution_count": 7,
   "metadata": {},
   "outputs": [],
   "source": [
    "# t = 1 인 확률을 구하는 식 \n",
    "x = tf.placeholder(tf.float32,[None,2])\n",
    "w = tf.Variable(tf.zeros([2,1]))\n",
    "w0 = tf.Variable(tf.zeros([1]))\n",
    "\n",
    "f = tf.matmul(x,w) + w0\n",
    "p = tf.sigmoid(f)\n"
   ]
  },
  {
   "cell_type": "markdown",
   "metadata": {},
   "source": [
    "**2단계 오차함수 작성**"
   ]
  },
  {
   "cell_type": "code",
   "execution_count": 8,
   "metadata": {},
   "outputs": [],
   "source": [
    "t = tf.placeholder(tf.float32,[None,1])\n",
    "costFunction = -tf.reduce_sum(t * tf.log(p) + (1-t)*tf.log(1-p))"
   ]
  },
  {
   "cell_type": "markdown",
   "metadata": {},
   "source": [
    "**3단계 최적화 과정을 통해 파리미터 값을 결정**"
   ]
  },
  {
   "cell_type": "code",
   "execution_count": 9,
   "metadata": {},
   "outputs": [],
   "source": [
    "#trainOptimizer = tf.train.AdamOptimizer(learning_rate = 0.001)\n",
    "trainOptimizer = tf.train.AdamOptimizer()\n",
    "train = trainOptimizer.minimize(costFunction)"
   ]
  },
  {
   "cell_type": "markdown",
   "metadata": {},
   "source": [
    "예측값과 정확도 구하는 식 선언\n",
    "> * tf.sign(x)  x의 값에 따라 부호를 반환 음수 이면 -1, 0이면 0 양수이면 1 반환\n",
    "> * tf.equal(x,y) x와 y 값이 같은지 bool 값 반환\n",
    "> * tf.cast(x, dtype) 텐서 타입으로 형 변환 "
   ]
  },
  {
   "cell_type": "code",
   "execution_count": 10,
   "metadata": {},
   "outputs": [],
   "source": [
    "prediction = tf.equal(tf.sign(p-0.5), tf.sign(t-0.5))\n",
    "accuracy = tf.reduce_mean(tf.cast(prediction, tf.float32))"
   ]
  },
  {
   "cell_type": "markdown",
   "metadata": {},
   "source": [
    "세션 정의 및 변수 초기화"
   ]
  },
  {
   "cell_type": "code",
   "execution_count": 11,
   "metadata": {},
   "outputs": [],
   "source": [
    "sess = tf.Session()\n",
    "sess.run(tf.global_variables_initializer())"
   ]
  },
  {
   "cell_type": "markdown",
   "metadata": {},
   "source": [
    "20,000번의 학습 과정을 통하여 손실값 및 정확도 출력"
   ]
  },
  {
   "cell_type": "code",
   "execution_count": 12,
   "metadata": {},
   "outputs": [
    {
     "name": "stdout",
     "output_type": "stream",
     "text": [
      "Step : 2000, cost(loss) : 16.837088 , accuracy : 0.914286\n",
      "Step : 4000, cost(loss) : 12.956228 , accuracy : 0.914286\n",
      "Step : 6000, cost(loss) : 10.605145 , accuracy : 0.914286\n",
      "Step : 8000, cost(loss) : 9.106233 , accuracy : 0.885714\n",
      "Step : 10000, cost(loss) : 8.134089 , accuracy : 0.885714\n",
      "Step : 12000, cost(loss) : 7.503963 , accuracy : 0.885714\n",
      "Step : 14000, cost(loss) : 7.101242 , accuracy : 0.885714\n",
      "Step : 16000, cost(loss) : 6.852183 , accuracy : 0.914286\n",
      "Step : 18000, cost(loss) : 6.708141 , accuracy : 0.914286\n",
      "Step : 20000, cost(loss) : 6.635503 , accuracy : 0.914286\n"
     ]
    }
   ],
   "source": [
    "itrNum = 0 \n",
    "for _ in range(20000):\n",
    "    itrNum += 1\n",
    "    trainValue, costFunctionValue, accuracyValue = sess.run([train, costFunction, accuracy], feed_dict = {x:train_x, t:train_t})\n",
    "    if (itrNum % 2000 == 0) :\n",
    "        print (\"Step : %d, cost(loss) : %f , accuracy : %f\" %(itrNum, costFunctionValue, accuracyValue))\n",
    "        "
   ]
  },
  {
   "cell_type": "markdown",
   "metadata": {},
   "source": [
    "학습을 통해 결정된 w파라미터 값 확인"
   ]
  },
  {
   "cell_type": "code",
   "execution_count": 13,
   "metadata": {},
   "outputs": [
    {
     "name": "stdout",
     "output_type": "stream",
     "text": [
      "-15.21047 0.4421058 0.5526983\n",
      "[[0.4421058]\n",
      " [0.5526983]]\n"
     ]
    }
   ],
   "source": [
    "w0Value, wValue = sess.run([w0,w])\n",
    "\n",
    "w0Value, w1Value, w2Value = w0Value[0], wValue[0][0], wValue[1][0]\n",
    "print(w0Value, w1Value, w2Value)\n",
    "print (wValue)"
   ]
  },
  {
   "cell_type": "markdown",
   "metadata": {},
   "source": [
    "학습 결과를 그래프로 표현"
   ]
  },
  {
   "cell_type": "code",
   "execution_count": 14,
   "metadata": {},
   "outputs": [
    {
     "data": {
      "text/plain": [
       "<matplotlib.image.AxesImage at 0x11965ea58>"
      ]
     },
     "execution_count": 14,
     "metadata": {},
     "output_type": "execute_result"
    },
    {
     "data": {
      "image/png": "[encoded data removed]",
      "text/plain": [
       "<Figure size 432x432 with 1 Axes>"
      ]
     },
     "metadata": {},
     "output_type": "display_data"
    }
   ],
   "source": [
    "train_set0 = train_set[train_set['t']==0]\n",
    "train_set1 = train_set[train_set['t']==1]\n",
    "\n",
    "fig = plt.figure(figsize=(6,6))\n",
    "subplot = fig.add_subplot(1,1,1)\n",
    "subplot.set_ylim([0,30])\n",
    "subplot.set_xlim([0,30])\n",
    "subplot.scatter(train_set1.x1, train_set1.x2, marker='x')\n",
    "subplot.scatter(train_set0.x1, train_set0.x2, marker='o')\n",
    "\n",
    "linex = np.linspace(0,30,10)\n",
    "liney = - (w1Value*linex/w2Value + w0Value/w2Value)\n",
    "subplot.plot(linex, liney)\n",
    "\n",
    "field = [[(1 / (1 + np.exp(-(w0Value + w1Value*x1 + w2Value*x2))))\n",
    "          for x1 in np.linspace(0,30,100)]\n",
    "         for x2 in np.linspace(0,30,100)]\n",
    "subplot.imshow(field, origin='lower', extent=(0,30,0,30),\n",
    "               cmap=plt.cm.gray_r, alpha=0.5)"
   ]
  },
  {
   "cell_type": "code",
   "execution_count": null,
   "metadata": {},
   "outputs": [],
   "source": []
  }
 ],
 "metadata": {
  "kernelspec": {
   "display_name": "Python 3",
   "language": "python",
   "name": "python3"
  },
  "language_info": {
   "codemirror_mode": {
    "name": "ipython",
    "version": 3
   },
   "file_extension": ".py",
   "mimetype": "text/x-python",
   "name": "python",
   "nbconvert_exporter": "python",
   "pygments_lexer": "ipython3",
   "version": "3.6.5"
  }
 },
 "nbformat": 4,
 "nbformat_minor": 2
}
