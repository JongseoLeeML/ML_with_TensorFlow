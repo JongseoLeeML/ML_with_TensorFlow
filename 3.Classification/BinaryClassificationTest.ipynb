{
 "cells": [
  {
   "cell_type": "markdown",
   "metadata": {},
   "source": [
    "**BinaryClassification 모델의 학습 데이터와 테스트 데이터로 분류하여 학습 검증**"
   ]
  },
  {
   "cell_type": "code",
   "execution_count": null,
   "metadata": {},
   "outputs": [],
   "source": [
    "import tensorflow as tf\n",
    "import numpy as np\n",
    "import matplotlib.pyplot as plt\n",
    "from numpy.random import multivariate_normal, permutation\n",
    "import pandas as pd\n",
    "from pandas import DataFrame, Series\n",
    "\n",
    "np.random.seed(20180427)"
   ]
  },
  {
   "cell_type": "code",
   "execution_count": null,
   "metadata": {},
   "outputs": [],
   "source": [
    "n0, mu0, variance0 = 800, [10, 11], 20\n",
    "data0 = multivariate_normal(mu0, np.eye(2)*variance0 ,n0)\n",
    "df0 = DataFrame(data0, columns=['x','y'])\n",
    "df0['t'] = 0\n",
    "\n",
    "n1, mu1, variance1 = 600, [18, 20], 22\n",
    "data1 = multivariate_normal(mu1, np.eye(2)*variance1 ,n1)\n",
    "df1 = DataFrame(data1, columns=['x','y'])\n",
    "df1['t'] = 1\n",
    "\n",
    "df = pd.concat([df0, df1], ignore_index=True)\n",
    "df = df.reindex(permutation(df.index)).reset_index(drop=True)\n",
    "\n",
    "num_data = int(len(df)*0.8)\n",
    "train_set = df[:num_data]\n",
    "test_set = df[num_data:]"
   ]
  },
  {
   "cell_type": "code",
   "execution_count": null,
   "metadata": {},
   "outputs": [],
   "source": [
    "train_x = train_set[['x','y']].as_matrix()\n",
    "train_t = train_set['t'].as_matrix().reshape([len(train_set), 1])\n",
    "\n",
    "test_x = test_set[['x','y']].as_matrix()\n",
    "test_t = test_set['t'].as_matrix().reshape([len(test_set), 1])"
   ]
  },
  {
   "cell_type": "code",
   "execution_count": null,
   "metadata": {},
   "outputs": [],
   "source": [
    "x = tf.placeholder(tf.float32, [None, 2])\n",
    "w = tf.Variable(tf.zeros([2, 1]))\n",
    "w0 = tf.Variable(tf.zeros([1]))\n",
    "\n",
    "f = tf.matmul(x, w) + w0\n",
    "p = tf.sigmoid(f)\n",
    "\n",
    "t = tf.placeholder(tf.float32, [None, 1])\n",
    "costFunction = -tf.reduce_sum(t*tf.log(p) + (1-t)*tf.log(1-p))\n",
    "trainOptimizer = tf.train.AdamOptimizer()\n",
    "train = trainOptimizer.minimize(costFunction)\n",
    "\n",
    "prediction = tf.equal(tf.sign(p-0.5), tf.sign(t-0.5))\n",
    "accuracy = tf.reduce_mean(tf.cast(prediction, tf.float32))"
   ]
  },
  {
   "cell_type": "code",
   "execution_count": null,
   "metadata": {},
   "outputs": [],
   "source": [
    "sess = tf.Session()\n",
    "sess.run(tf.global_variables_initializer())"
   ]
  },
  {
   "cell_type": "code",
   "execution_count": null,
   "metadata": {},
   "outputs": [],
   "source": [
    "train_accuracy = []\n",
    "test_accuracy = []\n",
    "itrNum = 0\n",
    "for _ in range(2500) :\n",
    "    itrNum += 1\n",
    "    sess.run(train, feed_dict = {x:train_x, t:train_t})\n",
    "    costFunctionValue, accuracyValue = sess.run([costFunction, accuracy], feed_dict = {x:train_x, t:train_t})\n",
    "    train_accuracy.append(accuracyValue)\n",
    "    costFunctionValue_test, accuracyValue_test = sess.run([costFunction, accuracy], feed_dict = {x:test_x, t:test_t})\n",
    "    test_accuracy.append(accuracyValue_test)\n",
    "    if (itrNum % 250 == 0) :\n",
    "        print (\"train => Step : %d, cost(loss) : %f , accuracy : %f\" %(itrNum, costFunctionValue, accuracyValue))\n",
    "        print (\"test  => Step : %d, cost(loss) : %f , accuracy : %f\" %(itrNum, costFunctionValue_test, accuracyValue_test))\n",
    " "
   ]
  },
  {
   "cell_type": "code",
   "execution_count": null,
   "metadata": {},
   "outputs": [],
   "source": [
    "fig = plt.figure(figsize=(8,6))\n",
    "subplot = fig.add_subplot(1,1,1)\n",
    "subplot.plot(range(len(train_accuracy)), train_accuracy, linewidth=2, label='Training set')\n",
    "subplot.plot(range(len(test_accuracy)), test_accuracy, linewidth=2, label='Test set')\n",
    "subplot.legend(loc='upper left')"
   ]
  },
  {
   "cell_type": "code",
   "execution_count": null,
   "metadata": {},
   "outputs": [],
   "source": []
  }
 ],
 "metadata": {
  "kernelspec": {
   "display_name": "Python 3",
   "language": "python",
   "name": "python3"
  },
  "language_info": {
   "codemirror_mode": {
    "name": "ipython",
    "version": 3
   },
   "file_extension": ".py",
   "mimetype": "text/x-python",
   "name": "python",
   "nbconvert_exporter": "python",
   "pygments_lexer": "ipython3",
   "version": "3.6.5"
  }
 },
 "nbformat": 4,
 "nbformat_minor": 2
}
