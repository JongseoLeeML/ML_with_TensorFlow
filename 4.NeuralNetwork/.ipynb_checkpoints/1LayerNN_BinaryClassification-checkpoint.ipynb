{
 "cells": [
  {
   "cell_type": "code",
   "execution_count": 1,
   "metadata": {},
   "outputs": [],
   "source": [
    "import tensorflow as tf\n",
    "import numpy as np\n",
    "import matplotlib.pyplot as plt\n",
    "from numpy.random import multivariate_normal, permutation\n",
    "import pandas as pd\n",
    "from pandas import DataFrame, Series\n",
    "\n",
    "#np.random.seed(20160614)\n",
    "#tf.set_random_seed(20160614)\n",
    "\n",
    "np.random.seed(20180427)\n",
    "tf.set_random_seed(20180427)"
   ]
  },
  {
   "cell_type": "code",
   "execution_count": 2,
   "metadata": {},
   "outputs": [],
   "source": [
    "#mu , variance , n , t \n",
    "data0 = multivariate_normal([7,7],np.eye(2)*22,15)\n",
    "df0 = DataFrame(data0, columns=['x1','x2'])\n",
    "df0['t'] = 0\n",
    "\n",
    "data1 = multivariate_normal([22,7],np.eye(2)*22,15)\n",
    "df1 = DataFrame(data1, columns=['x1','x2'])\n",
    "df1['t'] = 0\n",
    "\n",
    "data2 = multivariate_normal([7,22],np.eye(2)*22,10)\n",
    "df2 = DataFrame(data2, columns=['x1','x2'])\n",
    "df2['t'] = 0\n",
    "\n",
    "data3 = multivariate_normal([20,20],np.eye(2)*22,25)\n",
    "df3 = DataFrame(data3, columns=['x1','x2'])\n",
    "df3['t'] = 1\n",
    "\n",
    "#permutation() : 순서 무작위로 바꿈 셔플 \n",
    "df = pd.concat([df0, df1, df2, df3], ignore_index=True)\n",
    "train_set = df.reindex(permutation(df.index)).reset_index(drop=True)\n",
    "\n",
    "#train_set"
   ]
  },
  {
   "cell_type": "code",
   "execution_count": 3,
   "metadata": {},
   "outputs": [],
   "source": [
    "train_x = train_set[['x1','x2']].as_matrix()\n",
    "train_t = train_set['t'].as_matrix().reshape([len(train_set), 1])"
   ]
  },
  {
   "cell_type": "code",
   "execution_count": 4,
   "metadata": {},
   "outputs": [],
   "source": [
    "nodeNum = 2\n",
    "mult = train_x.flatten().mean()\n",
    "\n",
    "\n",
    "x = tf.placeholder(tf.float32, [None, 2])\n",
    "\n",
    "w1 = tf.Variable(tf.truncated_normal([2, nodeNum]))\n",
    "b1 = tf.Variable(tf.zeros([nodeNum]))\n",
    "hidden1 = tf.nn.tanh(tf.matmul(x, w1) + b1*mult)\n",
    "\n",
    "w0 = tf.Variable(tf.zeros([nodeNum, 1]))\n",
    "b0 = tf.Variable(tf.zeros([1]))\n",
    "p = tf.nn.sigmoid(tf.matmul(hidden1, w0) + b0*mult)"
   ]
  },
  {
   "cell_type": "code",
   "execution_count": 5,
   "metadata": {},
   "outputs": [],
   "source": [
    "t = tf.placeholder(tf.float32, [None, 1])\n",
    "costFunction = -tf.reduce_sum(t*tf.log(p) + (1-t)*tf.log(1-p))\n",
    "trainOptimizer = tf.train.GradientDescentOptimizer(learning_rate=0.0017)\n",
    "train = trainOptimizer.minimize(costFunction)\n",
    "prediction = tf.equal(tf.sign(p-0.5), tf.sign(t-0.5))\n",
    "accuracy = tf.reduce_mean(tf.cast(prediction, tf.float32))"
   ]
  },
  {
   "cell_type": "code",
   "execution_count": 6,
   "metadata": {},
   "outputs": [],
   "source": [
    "#sess = tf.InteractiveSession()\n",
    "# https://tensorflowkorea.gitbooks.io/tensorflow-kr/content/g3doc/api_docs/python/client.html\n",
    "sess = tf.Session()\n",
    "sess.run(tf.global_variables_initializer())"
   ]
  },
  {
   "cell_type": "code",
   "execution_count": 7,
   "metadata": {},
   "outputs": [
    {
     "name": "stdout",
     "output_type": "stream",
     "text": [
      "Step: 1000, cost(Loss): 22.902617, accuracy: 0.876923\n",
      "Step: 2000, cost(Loss): 19.589327, accuracy: 0.800000\n",
      "Step: 3000, cost(Loss): 19.444420, accuracy: 0.815385\n",
      "Step: 4000, cost(Loss): 18.670036, accuracy: 0.876923\n",
      "Step: 5000, cost(Loss): 18.931437, accuracy: 0.876923\n",
      "Step: 6000, cost(Loss): 18.853312, accuracy: 0.892308\n",
      "Step: 7000, cost(Loss): 18.385597, accuracy: 0.892308\n",
      "Step: 8000, cost(Loss): 18.307394, accuracy: 0.876923\n",
      "Step: 9000, cost(Loss): 16.792410, accuracy: 0.892308\n",
      "Step: 10000, cost(Loss): 16.760315, accuracy: 0.892308\n"
     ]
    }
   ],
   "source": [
    "itrNum = 0\n",
    "for _ in range(10000):\n",
    "    itrNum += 1\n",
    "    sess.run(train, feed_dict={x:train_x, t:train_t})\n",
    "    if itrNum % 1000 == 0:\n",
    "        costFunctionValue, accuracyValue = sess.run([costFunction, accuracy], feed_dict={x:train_x, t:train_t})\n",
    "        print ('Step: %d, cost(Loss): %f, accuracy: %f' % (itrNum, costFunctionValue, accuracyValue))"
   ]
  },
  {
   "cell_type": "code",
   "execution_count": 8,
   "metadata": {},
   "outputs": [
    {
     "data": {
      "text/plain": [
       "<matplotlib.image.AxesImage at 0x1406f9b0>"
      ]
     },
     "execution_count": 8,
     "metadata": {},
     "output_type": "execute_result"
    },
    {
     "data": {
      "image/png": "[encoded data removed]",
      "text/plain": [
       "<Figure size 432x432 with 1 Axes>"
      ]
     },
     "metadata": {},
     "output_type": "display_data"
    }
   ],
   "source": [
    "train_set1 = train_set[train_set['t']==1]\n",
    "train_set2 = train_set[train_set['t']==0]\n",
    "\n",
    "fig = plt.figure(figsize=(6,6))\n",
    "subplot = fig.add_subplot(1,1,1)\n",
    "subplot.set_ylim([0,30])\n",
    "subplot.set_xlim([0,30])\n",
    "subplot.scatter(train_set1.x1, train_set1.x2, marker='x')\n",
    "subplot.scatter(train_set2.x1, train_set2.x2, marker='o')\n",
    "\n",
    "locations = []\n",
    "for x2 in np.linspace(0,30,100):\n",
    "    for x1 in np.linspace(0,30,100):\n",
    "        locations.append((x1,x2))\n",
    "p_vals = sess.run(p, feed_dict={x:locations})\n",
    "p_vals = p_vals.reshape((100,100))\n",
    "subplot.imshow(p_vals, origin='lower', extent=(0,30,0,30),\n",
    "               cmap=plt.cm.gray_r, alpha=0.5)"
   ]
  },
  {
   "cell_type": "code",
   "execution_count": null,
   "metadata": {},
   "outputs": [],
   "source": []
  }
 ],
 "metadata": {
  "kernelspec": {
   "display_name": "Python 3",
   "language": "python",
   "name": "python3"
  },
  "language_info": {
   "codemirror_mode": {
    "name": "ipython",
    "version": 3
   },
   "file_extension": ".py",
   "mimetype": "text/x-python",
   "name": "python",
   "nbconvert_exporter": "python",
   "pygments_lexer": "ipython3",
   "version": "3.6.5"
  }
 },
 "nbformat": 4,
 "nbformat_minor": 2
}
