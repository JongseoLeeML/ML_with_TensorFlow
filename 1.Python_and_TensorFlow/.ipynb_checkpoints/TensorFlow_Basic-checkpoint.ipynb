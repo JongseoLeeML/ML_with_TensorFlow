{
 "cells": [
  {
   "cell_type": "markdown",
   "metadata": {},
   "source": [
    "# TensorFlow"
   ]
  },
  {
   "cell_type": "code",
   "execution_count": 1,
   "metadata": {},
   "outputs": [],
   "source": [
    "import tensorflow as tf"
   ]
  },
  {
   "cell_type": "markdown",
   "metadata": {},
   "source": [
    "### 상수형 (Constant) : 상수를 저장하는 데이터 형\n",
    "* tf.constant(value, dtype=None, shape=None, name='Const', verify_shape=False)\n",
    "> * value : 상수 값\n",
    "> * dtype : 상수 데이타형, tf.float32와 같이 실수,정수등의 데이타 타입을 정의\n",
    "> * shape : 행렬의 차원을 정의, shape=[3,3]으로 정의해주면, 이 상수는 3x3 행렬을 저장\n",
    "> * name : 상수의 이름을 정의"
   ]
  },
  {
   "cell_type": "code",
   "execution_count": 2,
   "metadata": {},
   "outputs": [
    {
     "name": "stdout",
     "output_type": "stream",
     "text": [
      "Tensor(\"add:0\", shape=(1,), dtype=float32)\n"
     ]
    }
   ],
   "source": [
    "a = tf.constant([5],dtype=tf.float32)\n",
    "b = tf.constant([10],dtype=tf.float32)\n",
    "c = tf.constant([2], tf.float32)\n",
    "d = a*b+c\n",
    "print (d)"
   ]
  },
  {
   "cell_type": "markdown",
   "metadata": {},
   "source": [
    "* (용어) 그래프와 세션\n",
    "> * 그래프 (graph) : 연산은 graph로 표현함 (노드와 엣지로 이뤄진 수학적인 구조)\n",
    "> * 세션 (session) : 그래프(graph)는 세션에서 실행 (그래프를 인자로 받아서 실행해주는 일종의 러너임)"
   ]
  },
  {
   "cell_type": "code",
   "execution_count": 3,
   "metadata": {},
   "outputs": [
    {
     "name": "stdout",
     "output_type": "stream",
     "text": [
      "[52.]\n"
     ]
    }
   ],
   "source": [
    "# d : 그래프 \n",
    "# sess : 세션 \n",
    "sess = tf.Session()\n",
    "result = sess.run(d)\n",
    "print (result)"
   ]
  },
  {
   "cell_type": "markdown",
   "metadata": {},
   "source": [
    "### 플레이스 홀더(Placeholder) : 학습용 데이터를 담는 입력 데이터 자료형\n",
    "* tf.placeholder(dtype,shape,name)\n",
    "> * dtype : 플레이스홀더에 저장되는 데이타형이다. tf.float32와 같이 실수,정수등의 데이타 타입을 정의한다.\n",
    "> * shape : 행렬의 차원을 정의한다. shapre=[3,3]으로 정의해주면, 이 플레이스홀더는 3x3 행렬을 저장하게 된다.\n",
    "> * name : name은 이 플레이스 홀더의 이름을 정의\n",
    "\n",
    "* feed_dict = {'입력할변수':'변수에들어갈데이터'} : 변수에 입력할 데이터를 지정"
   ]
  },
  {
   "cell_type": "code",
   "execution_count": 11,
   "metadata": {},
   "outputs": [
    {
     "name": "stdout",
     "output_type": "stream",
     "text": [
      "(5,)\n",
      "[ 2.  4.  6.  8. 10.]\n"
     ]
    }
   ],
   "source": [
    "input_data = [1,2,3,4,5]\n",
    "x = tf.placeholder(dtype=tf.float32 ,shape =[5], name= 'xDataRoom')\n",
    "y = x * 2\n",
    "\n",
    "#print (x.shape)\n",
    "\n",
    "sess = tf.Session()\n",
    "result = sess.run(y,feed_dict={x:input_data})\n",
    "print (result)"
   ]
  },
  {
   "cell_type": "markdown",
   "metadata": {},
   "source": [
    "### 변수형(Variable) : 세션을 통하여 생성되는 값을 저장하고 갱신하는데 사용되는 자료형\n",
    "* tf.Variable(initial_value=None, trainable=True, collections=None,validate_shape=True, caching_device=None, name=None, ariable_def=None,dtype=None, expected_shape=None, import_scope=None)\n",
    "> * initial_value : 초기값 지정 \n",
    "> * name : 변수형 이름을 정의 \n",
    "\n",
    "* tf.global_variables_initializer() : 선언한 변수들을 초기화 함."
   ]
  },
  {
   "cell_type": "code",
   "execution_count": 18,
   "metadata": {},
   "outputs": [
    {
     "name": "stdout",
     "output_type": "stream",
     "text": [
      "[ 2.  4.  6.  8. 10.]\n"
     ]
    }
   ],
   "source": [
    "input_data = [1,2,3,4,5]\n",
    "\n",
    "x = tf.placeholder(dtype=tf.float32)\n",
    "W = tf.Variable([2],dtype=tf.float32)\n",
    "y = W*x\n",
    "\n",
    "sess = tf.Session()\n",
    "sess.run(tf.global_variables_initializer())\n",
    "result = sess.run(y,feed_dict={x:input_data})\n",
    "print (result)"
   ]
  },
  {
   "cell_type": "code",
   "execution_count": null,
   "metadata": {},
   "outputs": [],
   "source": []
  }
 ],
 "metadata": {
  "kernelspec": {
   "display_name": "Python 3",
   "language": "python",
   "name": "python3"
  },
  "language_info": {
   "codemirror_mode": {
    "name": "ipython",
    "version": 3
   },
   "file_extension": ".py",
   "mimetype": "text/x-python",
   "name": "python",
   "nbconvert_exporter": "python",
   "pygments_lexer": "ipython3",
   "version": "3.6.5"
  }
 },
 "nbformat": 4,
 "nbformat_minor": 2
}
