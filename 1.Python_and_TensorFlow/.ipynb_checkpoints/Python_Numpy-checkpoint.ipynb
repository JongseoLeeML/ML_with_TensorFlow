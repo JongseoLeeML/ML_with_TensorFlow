{
 "cells": [
  {
   "cell_type": "markdown",
   "metadata": {},
   "source": [
    "# Numpy 모듈 "
   ]
  },
  {
   "cell_type": "markdown",
   "metadata": {},
   "source": [
    "* numpy는 과학 계산을 위한 라이브러리로서 다차원 배열을 처리하는데 필요한 기능을 제공\n",
    "> * 설치 : <pre><cod>pip install numpy</code></pre> \n",
    "> * 설치 모듈 확인 : <pre><code>import numpy as np </code></pre>"
   ]
  },
  {
   "cell_type": "code",
   "execution_count": 1,
   "metadata": {},
   "outputs": [],
   "source": [
    "import numpy as np "
   ]
  },
  {
   "cell_type": "markdown",
   "metadata": {},
   "source": [
    "* numpy 에서 배열은 동일한 타입의 값들을 가짐\n",
    "> 용어\n",
    "> * _rank_ : 배열의 차원\n",
    "> * _shape_ : 각 차원의 크기를 튜플로 표시"
   ]
  },
  {
   "cell_type": "code",
   "execution_count": 2,
   "metadata": {},
   "outputs": [
    {
     "name": "stdout",
     "output_type": "stream",
     "text": [
      "rank 1 인 배열\n",
      "shape :  (4,)\n",
      "\n",
      "rank 2 인 배열\n",
      "shape :  (2, 3)\n",
      "2열 3행 데이터 :  c\n"
     ]
    }
   ],
   "source": [
    "# rank 1 인 배열 선언 \n",
    "list1 = [10,20,30,40]\n",
    "a = np.array(list1)\n",
    "print (\"rank 1 인 배열\")\n",
    "print (\"shape : \", a.shape)\n",
    "print ()\n",
    "\n",
    "# rank 2 인 배열 선언\n",
    "list2 = [[1,2,3],\n",
    "         ['a','b','c']]\n",
    "b = np.array(list2)\n",
    "print (\"rank 2 인 배열\")\n",
    "print (\"shape : \", b.shape)\n",
    "print (\"2열 3행 데이터 : \",b[1,2])"
   ]
  },
  {
   "cell_type": "markdown",
   "metadata": {},
   "source": [
    "* numpy 배열 생성 \n",
    "> 1. zeros() : _0_을 초기값으로 설정 \n",
    "> 2. ones() : _1_을 초기값으로 설정\n",
    "> 3. full() :  _사용자 지정값_을 초기값으로 설정 \n",
    "> 4. eye() : _1_을 배열의 대각선으로 초기값을 가지며 나머지 부분은 _0_으로 설정"
   ]
  },
  {
   "cell_type": "code",
   "execution_count": 3,
   "metadata": {},
   "outputs": [
    {
     "name": "stdout",
     "output_type": "stream",
     "text": [
      "- zeros() 결과 : \n",
      "[[0. 0.]\n",
      " [0. 0.]]\n",
      "\n",
      "- ones() 결과 : \n",
      "[[1. 1. 1.]\n",
      " [1. 1. 1.]]\n",
      "\n",
      "- full() 결과 : \n",
      "[[5 5 5]\n",
      " [5 5 5]]\n",
      "\n",
      "- eye() 결과 : \n",
      "[[1. 0. 0.]\n",
      " [0. 1. 0.]\n",
      " [0. 0. 1.]]\n",
      "\n",
      "- 배열 shape 변환 결과 : \n",
      "[[ 0  1  2  3  4]\n",
      " [ 5  6  7  8  9]\n",
      " [10 11 12 13 14]\n",
      " [15 16 17 18 19]]\n"
     ]
    }
   ],
   "source": [
    "# zeros()\n",
    "a = np.zeros((2,2))\n",
    "print ('- zeros() 결과 : ')\n",
    "print (a)\n",
    "print ()\n",
    " \n",
    "a = np.ones((2,3))\n",
    "print ('- ones() 결과 : ')\n",
    "print (a)\n",
    "print ()\n",
    " \n",
    "a = np.full((2,3), 5)\n",
    "print ('- full() 결과 : ')\n",
    "print (a)\n",
    "print ()\n",
    " \n",
    "a = np.eye(3)\n",
    "print ('- eye() 결과 : ')\n",
    "print (a)\n",
    "print ()\n",
    " \n",
    "a = np.array(range(20)).reshape((4,5))\n",
    "print ('- 배열 shape 변환 결과 : ')\n",
    "print (a)"
   ]
  },
  {
   "cell_type": "markdown",
   "metadata": {},
   "source": [
    "* numpy 슬라이싱 "
   ]
  },
  {
   "cell_type": "code",
   "execution_count": 4,
   "metadata": {},
   "outputs": [
    {
     "name": "stdout",
     "output_type": "stream",
     "text": [
      "- arr[0:2, 0:2] 결과 \n",
      "[[1 2]\n",
      " [4 5]]\n",
      "\n",
      " - arr[1:, 1:] 결과 \n",
      "[[5 6]\n",
      " [8 9]]\n"
     ]
    }
   ],
   "source": [
    "lst = [\n",
    "        [1, 2, 3],\n",
    "        [4, 5, 6],\n",
    "        [7, 8, 9]\n",
    "    ]\n",
    "arr = np.array(lst)\n",
    " \n",
    "# 슬라이싱 1\n",
    "a = arr[0:2, 0:2]\n",
    "print ('- arr[0:2, 0:2] 결과 ')\n",
    "print (a)\n",
    "print ()\n",
    "\n",
    "# 슬라이싱 2 \n",
    "a = arr[1:, 1:]\n",
    "print (' - arr[1:, 1:] 결과 ')\n",
    "print (a)\n"
   ]
  },
  {
   "cell_type": "markdown",
   "metadata": {},
   "source": [
    "* numpy 정수 인덱싱 "
   ]
  },
  {
   "cell_type": "code",
   "execution_count": 5,
   "metadata": {},
   "outputs": [
    {
     "name": "stdout",
     "output_type": "stream",
     "text": [
      "[ 2 12]\n"
     ]
    }
   ],
   "source": [
    "lst = [\n",
    "        [1, 2, 3, 4],\n",
    "        [5, 6, 7, 8],\n",
    "        [9, 10, 11, 12]\n",
    "    ]\n",
    "a = np.array(lst)\n",
    " \n",
    "# 정수 인덱싱\n",
    "s = a[[0, 2], [1, 3]]\n",
    "print (s)\n"
   ]
  },
  {
   "cell_type": "markdown",
   "metadata": {},
   "source": [
    "* numpy 연산 \n",
    "> * a + b  ==  np.add(a,b)\n",
    "> * a - b  ==  np.subtract(a,b)\n",
    "> * a * b  ==  np.multiply(a,b)\n",
    "> * a / b  ==  np.divide(a,b)"
   ]
  },
  {
   "cell_type": "code",
   "execution_count": 6,
   "metadata": {},
   "outputs": [
    {
     "name": "stdout",
     "output_type": "stream",
     "text": [
      "[5 7 9]\n",
      "[-3 -3 -3]\n",
      "[ 4 10 18]\n",
      "[0.25 0.4  0.5 ]\n"
     ]
    }
   ],
   "source": [
    "a = np.array([1,2,3])\n",
    "b = np.array([4,5,6])\n",
    "#print ('a shape : ',a.shape)\n",
    "#print ('b shape : ',b.shape)\n",
    "\n",
    "# 각 요소 더하기\n",
    "c = a + b\n",
    "# c = np.add(a, b)\n",
    "print(c)  # [5 7 9]\n",
    " \n",
    "# 각 요소 빼기\n",
    "c = a - b\n",
    "# c = np.subtract(a, b)\n",
    "print(c)  # [-3 -3 -3]\n",
    " \n",
    "# 각 요소 곱하기\n",
    "# c = a * b\n",
    "c = np.multiply(a, b)\n",
    "print(c)  # [4 10 18]\n",
    " \n",
    "# 각 요소 나누기\n",
    "# c = a / b\n",
    "c = np.divide(a, b)\n",
    "print(c)  # [0.25 0.4 0.5]"
   ]
  },
  {
   "cell_type": "markdown",
   "metadata": {},
   "source": [
    "> * np.sum() : 배열요소들의 합 \n",
    "> * np.prod() : 배열 요소들의 곱"
   ]
  },
  {
   "cell_type": "code",
   "execution_count": 7,
   "metadata": {},
   "outputs": [
    {
     "name": "stdout",
     "output_type": "stream",
     "text": [
      "[[19 22]\n",
      " [43 50]]\n"
     ]
    }
   ],
   "source": [
    "lst1 = [\n",
    "    [1,2],\n",
    "    [3,4]\n",
    "]\n",
    " \n",
    "lst2 = [\n",
    "    [5,6],\n",
    "    [7,8]\n",
    "]\n",
    "a = np.array(lst1)\n",
    "b = np.array(lst2)\n",
    " \n",
    "c = np.dot(a, b)\n",
    "print(c)"
   ]
  },
  {
   "cell_type": "code",
   "execution_count": null,
   "metadata": {},
   "outputs": [],
   "source": []
  }
 ],
 "metadata": {
  "kernelspec": {
   "display_name": "Python 3",
   "language": "python",
   "name": "python3"
  },
  "language_info": {
   "codemirror_mode": {
    "name": "ipython",
    "version": 3
   },
   "file_extension": ".py",
   "mimetype": "text/x-python",
   "name": "python",
   "nbconvert_exporter": "python",
   "pygments_lexer": "ipython3",
   "version": "3.6.5"
  }
 },
 "nbformat": 4,
 "nbformat_minor": 2
}
