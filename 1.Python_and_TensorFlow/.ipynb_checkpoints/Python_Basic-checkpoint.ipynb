{
 "cells": [
  {
   "cell_type": "markdown",
   "metadata": {},
   "source": [
    "# Python 기초 "
   ]
  },
  {
   "cell_type": "markdown",
   "metadata": {},
   "source": [
    "* 출력문 "
   ]
  },
  {
   "cell_type": "code",
   "execution_count": 1,
   "metadata": {},
   "outputs": [
    {
     "name": "stdout",
     "output_type": "stream",
     "text": [
      "hello\n",
      "hello\n"
     ]
    }
   ],
   "source": [
    "print ('hello')\n",
    "print (\"hello\")"
   ]
  },
  {
   "cell_type": "markdown",
   "metadata": {},
   "source": [
    "* 변수 대입과 연산 "
   ]
  },
  {
   "cell_type": "code",
   "execution_count": 2,
   "metadata": {},
   "outputs": [
    {
     "name": "stdout",
     "output_type": "stream",
     "text": [
      "result(a+c) :  33.1\n"
     ]
    }
   ],
   "source": [
    "a, b, c = 10, 'result(a+c) : ', 23.1\n",
    "result = a + c \n",
    "print (b, result)"
   ]
  },
  {
   "cell_type": "markdown",
   "metadata": {},
   "source": [
    "* 문자열 포멧 "
   ]
  },
  {
   "cell_type": "code",
   "execution_count": 3,
   "metadata": {},
   "outputs": [
    {
     "name": "stdout",
     "output_type": "stream",
     "text": [
      "정수 포멧 출력 - 100\n",
      "문자열,부동소수점 포멧 출력 - 원주율  : 3.140000\n"
     ]
    }
   ],
   "source": [
    "n = 100 \n",
    "pi = 3.14\n",
    "c = \"원주율 \"\n",
    "\n",
    "print (\"정수 포멧 출력 - %d\" %n)\n",
    "print (\"문자열,부동소수점 포멧 출력 - %s : %f\" %(c, pi))"
   ]
  },
  {
   "cell_type": "markdown",
   "metadata": {},
   "source": [
    "* 자료형 - 리스트"
   ]
  },
  {
   "cell_type": "code",
   "execution_count": 4,
   "metadata": {},
   "outputs": [
    {
     "name": "stdout",
     "output_type": "stream",
     "text": [
      "리스트 출력 :  [10, 20, 30, 40]\n"
     ]
    }
   ],
   "source": [
    "listA = [10,20,30,40]\n",
    "print (\"리스트 출력 : \", listA)"
   ]
  },
  {
   "cell_type": "code",
   "execution_count": 5,
   "metadata": {},
   "outputs": [
    {
     "name": "stdout",
     "output_type": "stream",
     "text": [
      "인덱싱1 :  30\n",
      "인덱싱2 :  40\n",
      "슬라이싱1 :  [10, 20]\n",
      "슬라이싱2 :  [20, 30, 40] ,  [10, 20] ,  [10, 20, 30, 40]\n"
     ]
    }
   ],
   "source": [
    "# 인덱싱, 슬라이싱 \n",
    "print (\"인덱싱1 : \", listA[2])\n",
    "print (\"인덱싱2 : \", listA[-1])\n",
    "print (\"슬라이싱1 : \", listA[0:2])\n",
    "print (\"슬라이싱2 : \", listA[1:],\", \",listA[:2],\", \",listA[:])"
   ]
  },
  {
   "cell_type": "code",
   "execution_count": 6,
   "metadata": {},
   "outputs": [
    {
     "name": "stdout",
     "output_type": "stream",
     "text": [
      "데이터 추가 :  [11, 33, 55, 77]\n"
     ]
    }
   ],
   "source": [
    "# 리스트에 데이터 추가 \n",
    "listB = []\n",
    "listB.append(11)\n",
    "listB.append(33)\n",
    "listB.append(55)\n",
    "listB.append(77)\n",
    "print (\"데이터 추가 : \",listB)"
   ]
  },
  {
   "cell_type": "code",
   "execution_count": 7,
   "metadata": {},
   "outputs": [
    {
     "name": "stdout",
     "output_type": "stream",
     "text": [
      "[11, 33, 55, 77]\n",
      "데이터 삭제 :  [11, 55]\n"
     ]
    }
   ],
   "source": [
    "print (listB)\n",
    "# 리스트 데이터 삭제\n",
    "listB.remove(33)\n",
    "listB.remove(listB[-1])\n",
    "print (\"데이터 삭제 : \",listB)"
   ]
  },
  {
   "cell_type": "code",
   "execution_count": 8,
   "metadata": {},
   "outputs": [
    {
     "name": "stdout",
     "output_type": "stream",
     "text": [
      "range() 리스트 생성 :  [0, 2, 4, 6, 8]\n"
     ]
    }
   ],
   "source": [
    "# range(start, end , gap) 을 이용한 리스트 생성\n",
    "listC = list(range(0,10,2))\n",
    "print (\"range() 리스트 생성 : \", listC)"
   ]
  },
  {
   "cell_type": "code",
   "execution_count": 9,
   "metadata": {},
   "outputs": [
    {
     "name": "stdout",
     "output_type": "stream",
     "text": [
      "[2, 4, 6, 8]\n"
     ]
    }
   ],
   "source": [
    "listFor = [x for x in range(2,10,2)]\n",
    "print (listFor)"
   ]
  },
  {
   "cell_type": "markdown",
   "metadata": {},
   "source": [
    "* 자료형  - 딕셔너리"
   ]
  },
  {
   "cell_type": "code",
   "execution_count": 10,
   "metadata": {},
   "outputs": [
    {
     "name": "stdout",
     "output_type": "stream",
     "text": [
      "{'elem_A': 'apple', 'elem_B': 'banana'}\n",
      "elem_A :  apple\n",
      "elem_B :  banana\n"
     ]
    }
   ],
   "source": [
    "dicA = {\"elem_A\" : \"apple\", \"elem_B\" : \"banana\"}\n",
    "print (dicA)\n",
    "print (\"elem_A : \", dicA[\"elem_A\"])\n",
    "print (\"elem_B : \", dicA[\"elem_B\"])"
   ]
  },
  {
   "cell_type": "markdown",
   "metadata": {},
   "source": [
    "* 자료형 - 튜플 \n",
    "  * 리스트와 다른점은 튜플은 값을 변경 불가능 "
   ]
  },
  {
   "cell_type": "code",
   "execution_count": 11,
   "metadata": {},
   "outputs": [
    {
     "name": "stdout",
     "output_type": "stream",
     "text": [
      "(1, 2, 3)\n",
      "('a', 'b', 'c')\n"
     ]
    }
   ],
   "source": [
    "t1 =(1,2,3)\n",
    "print (t1)\n",
    "t2 = 'a', 'b', 'c'\n",
    "print (t2)"
   ]
  },
  {
   "cell_type": "markdown",
   "metadata": {},
   "source": [
    "* 제어문 - for "
   ]
  },
  {
   "cell_type": "code",
   "execution_count": 12,
   "metadata": {},
   "outputs": [
    {
     "name": "stdout",
     "output_type": "stream",
     "text": [
      "elem_A\n",
      "elem_B\n"
     ]
    }
   ],
   "source": [
    "for n in dicA:\n",
    "    print (n)\n"
   ]
  },
  {
   "cell_type": "code",
   "execution_count": 13,
   "metadata": {},
   "outputs": [
    {
     "name": "stdout",
     "output_type": "stream",
     "text": [
      "0\n",
      "1\n",
      "2\n",
      "3\n",
      "4\n",
      "5\n",
      "6\n",
      "7\n",
      "8\n",
      "9\n"
     ]
    }
   ],
   "source": [
    "for n in range(0,10) : \n",
    "    print (n)"
   ]
  },
  {
   "cell_type": "code",
   "execution_count": 14,
   "metadata": {},
   "outputs": [
    {
     "name": "stdout",
     "output_type": "stream",
     "text": [
      "Index : 0, data : a\n",
      "Index : 1, data : b\n",
      "Index : 2, data : c\n",
      "Index : 3, data : d\n"
     ]
    }
   ],
   "source": [
    "for index, data in enumerate(['a','b','c','d']) : \n",
    "    print (\"Index : %d, data : %s\" %(index, data))"
   ]
  },
  {
   "cell_type": "markdown",
   "metadata": {},
   "source": [
    "* 제어문 - if "
   ]
  },
  {
   "cell_type": "code",
   "execution_count": 15,
   "metadata": {},
   "outputs": [
    {
     "name": "stdout",
     "output_type": "stream",
     "text": [
      "value(7) 는 10보다 작습니다\n"
     ]
    }
   ],
   "source": [
    "value = 7 \n",
    "if(value > 10) :\n",
    "    print (\"value(%d) 는 10보다 큽니다\" %value)\n",
    "else :\n",
    "    print (\"value(%d) 는 10보다 작습니다\" %value)\n"
   ]
  },
  {
   "cell_type": "code",
   "execution_count": null,
   "metadata": {},
   "outputs": [],
   "source": []
  }
 ],
 "metadata": {
  "kernelspec": {
   "display_name": "Python 3",
   "language": "python",
   "name": "python3"
  },
  "language_info": {
   "codemirror_mode": {
    "name": "ipython",
    "version": 3
   },
   "file_extension": ".py",
   "mimetype": "text/x-python",
   "name": "python",
   "nbconvert_exporter": "python",
   "pygments_lexer": "ipython3",
   "version": "3.6.5"
  }
 },
 "nbformat": 4,
 "nbformat_minor": 2
}
