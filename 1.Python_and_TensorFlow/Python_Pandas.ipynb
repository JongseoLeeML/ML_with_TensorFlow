{
 "cells": [
  {
   "cell_type": "markdown",
   "metadata": {},
   "source": [
    "# Pandas 모듈"
   ]
  },
  {
   "cell_type": "markdown",
   "metadata": {},
   "source": [
    "* 리스트. 튜플, 딕셔너리 자료구조를 사용하기 편리하고 데이터를 다루는데 효과적임\n",
    "> * 설치 : <pre><cod>pip install pandas</code></pre> \n",
    "> * 설치 모듈 확인 : <pre><code>import pandas as pd  </code></pre>"
   ]
  },
  {
   "cell_type": "code",
   "execution_count": 1,
   "metadata": {},
   "outputs": [],
   "source": [
    "from pandas import Series, DataFrame"
   ]
  },
  {
   "cell_type": "markdown",
   "metadata": {},
   "source": [
    "* Pandas 자료구조 \n",
    "> * _Series_ : 1차원 데이터 다루기 효과적인 자료구조\n",
    "> * _DataFrame_ : 2차원 데이터 다루는데 효과적인 자료구조 "
   ]
  },
  {
   "cell_type": "markdown",
   "metadata": {},
   "source": [
    "* Series 선언 및 데이터 접근"
   ]
  },
  {
   "cell_type": "code",
   "execution_count": 2,
   "metadata": {},
   "outputs": [
    {
     "name": "stdout",
     "output_type": "stream",
     "text": [
      "0    10\n",
      "1    20\n",
      "2    30\n",
      "3    40\n",
      "dtype: int64\n"
     ]
    }
   ],
   "source": [
    "# Series 선언 \n",
    "series1 = Series([10,20,30,40])\n",
    "print (series1)"
   ]
  },
  {
   "cell_type": "code",
   "execution_count": 3,
   "metadata": {},
   "outputs": [
    {
     "name": "stdout",
     "output_type": "stream",
     "text": [
      "10\n",
      "\n",
      "0    10\n",
      "1    20\n",
      "dtype: int64\n",
      "\n",
      "0    10\n",
      "1    20\n",
      "2    30\n",
      "3    40\n",
      "dtype: int64\n"
     ]
    }
   ],
   "source": [
    "# Series 데이터 접근\n",
    "print (series1[0])\n",
    "print ()\n",
    "print (series1[:2])\n",
    "print ()\n",
    "print (series1[:])"
   ]
  },
  {
   "cell_type": "markdown",
   "metadata": {},
   "source": [
    "* Series 인덱스 지정 및 인덱스로 데이터 접근"
   ]
  },
  {
   "cell_type": "code",
   "execution_count": 4,
   "metadata": {},
   "outputs": [
    {
     "name": "stdout",
     "output_type": "stream",
     "text": [
      "국어     90\n",
      "영어     95\n",
      "수학     85\n",
      "과학    100\n",
      "dtype: int64\n",
      "\n",
      "95\n"
     ]
    }
   ],
   "source": [
    "# 인덱스 지정\n",
    "series2 = Series([90,95,85,100], index =['국어','영어','수학','과학'])\n",
    "print (series2)\n",
    "print ()\n",
    "\n",
    "# 인덱스로 데이터 접근 \n",
    "print (series2['영어'])\n"
   ]
  },
  {
   "cell_type": "markdown",
   "metadata": {},
   "source": [
    "* DataFrame 선언 및 데이터 접근"
   ]
  },
  {
   "cell_type": "code",
   "execution_count": 5,
   "metadata": {
    "scrolled": true
   },
   "outputs": [
    {
     "name": "stdout",
     "output_type": "stream",
     "text": [
      "    personA  personB  personC\n",
      "국어      100       95       70\n",
      "영어       99       90       80\n",
      "수학       98       85       90\n",
      "과학       97       80      100\n",
      "\n"
     ]
    },
    {
     "data": {
      "text/html": [
       "<div>\n",
       "<style scoped>\n",
       "    .dataframe tbody tr th:only-of-type {\n",
       "        vertical-align: middle;\n",
       "    }\n",
       "\n",
       "    .dataframe tbody tr th {\n",
       "        vertical-align: top;\n",
       "    }\n",
       "\n",
       "    .dataframe thead th {\n",
       "        text-align: right;\n",
       "    }\n",
       "</style>\n",
       "<table border=\"1\" class=\"dataframe\">\n",
       "  <thead>\n",
       "    <tr style=\"text-align: right;\">\n",
       "      <th></th>\n",
       "      <th>personA</th>\n",
       "      <th>personB</th>\n",
       "      <th>personC</th>\n",
       "    </tr>\n",
       "  </thead>\n",
       "  <tbody>\n",
       "    <tr>\n",
       "      <th>국어</th>\n",
       "      <td>100</td>\n",
       "      <td>95</td>\n",
       "      <td>70</td>\n",
       "    </tr>\n",
       "    <tr>\n",
       "      <th>영어</th>\n",
       "      <td>99</td>\n",
       "      <td>90</td>\n",
       "      <td>80</td>\n",
       "    </tr>\n",
       "    <tr>\n",
       "      <th>수학</th>\n",
       "      <td>98</td>\n",
       "      <td>85</td>\n",
       "      <td>90</td>\n",
       "    </tr>\n",
       "    <tr>\n",
       "      <th>과학</th>\n",
       "      <td>97</td>\n",
       "      <td>80</td>\n",
       "      <td>100</td>\n",
       "    </tr>\n",
       "  </tbody>\n",
       "</table>\n",
       "</div>"
      ],
      "text/plain": [
       "    personA  personB  personC\n",
       "국어      100       95       70\n",
       "영어       99       90       80\n",
       "수학       98       85       90\n",
       "과학       97       80      100"
      ]
     },
     "execution_count": 5,
     "metadata": {},
     "output_type": "execute_result"
    }
   ],
   "source": [
    "# DataFrame 선언 \n",
    "raw_data = {'personA': [100, 99, 98, 97],\n",
    "            'personB': [95, 90, 85, 80],\n",
    "            'personC': [70, 80, 90, 100]}\n",
    "\n",
    "data = DataFrame(raw_data, index = ['국어','영어','수학','과학'])\n",
    "print(data)\n",
    "print ()\n",
    "data"
   ]
  },
  {
   "cell_type": "code",
   "execution_count": 6,
   "metadata": {},
   "outputs": [
    {
     "name": "stdout",
     "output_type": "stream",
     "text": [
      "100\n",
      "\n",
      "국어    95\n",
      "영어    90\n",
      "수학    85\n",
      "과학    80\n",
      "Name: personB, dtype: int64\n",
      "\n",
      "90\n"
     ]
    }
   ],
   "source": [
    "# 데이터 접근 \n",
    "print (data.personA['국어'])\n",
    "print ()\n",
    "print (data['personB'])\n",
    "print ()\n",
    "print (data['personC']['수학'])"
   ]
  },
  {
   "cell_type": "code",
   "execution_count": null,
   "metadata": {},
   "outputs": [],
   "source": []
  }
 ],
 "metadata": {
  "kernelspec": {
   "display_name": "Python 3",
   "language": "python",
   "name": "python3"
  },
  "language_info": {
   "codemirror_mode": {
    "name": "ipython",
    "version": 3
   },
   "file_extension": ".py",
   "mimetype": "text/x-python",
   "name": "python",
   "nbconvert_exporter": "python",
   "pygments_lexer": "ipython3",
   "version": "3.6.5"
  }
 },
 "nbformat": 4,
 "nbformat_minor": 2
}
