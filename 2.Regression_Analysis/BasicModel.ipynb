{
 "cells": [
  {
   "cell_type": "markdown",
   "metadata": {},
   "source": [
    "필요한 라이브러리 모듈 가져오기"
   ]
  },
  {
   "cell_type": "code",
   "execution_count": 1,
   "metadata": {},
   "outputs": [],
   "source": [
    "import tensorflow as tf\n",
    "import numpy as np"
   ]
  },
  {
   "cell_type": "markdown",
   "metadata": {},
   "source": [
    "간단한 선형 모델 데이터 정의\n",
    "* xData, yData : 1차원 배열 선언"
   ]
  },
  {
   "cell_type": "code",
   "execution_count": 2,
   "metadata": {},
   "outputs": [
    {
     "name": "stdout",
     "output_type": "stream",
     "text": [
      "(4,) (4,)\n",
      "(4, 1) (4, 1)\n"
     ]
    }
   ],
   "source": [
    "xData = np.array([1,2,3,4])\n",
    "yData = np.array([3,5,10,13])\n",
    "print (xData.shape, yData.shape)\n",
    "\n",
    "xData2 = xData.reshape([4,1])\n",
    "yData2 = yData.reshape([4,1])\n",
    "print (xData2.shape,yData2.shape)"
   ]
  },
  {
   "cell_type": "markdown",
   "metadata": {},
   "source": [
    "Variable(변수형) w,w0 선언\n",
    "* tf.random_uniform(shape, minval=0, maxval=None, dtype=tf.float32, seed=None, name=None): 균등 분포 형태의 난수 텐서를 생성\n",
    "\n",
    "Placeholder X, Y 를 선언"
   ]
  },
  {
   "cell_type": "code",
   "execution_count": 3,
   "metadata": {},
   "outputs": [],
   "source": [
    "w = tf.Variable(tf.random_uniform([1]))\n",
    "w0 = tf.Variable(tf.random_uniform([1]))\n",
    "\n",
    "X = tf.placeholder(tf.float32)\n",
    "Y = tf.placeholder(tf.float32)"
   ]
  },
  {
   "cell_type": "markdown",
   "metadata": {},
   "source": [
    "* 머신러닝 모델만들기 3단계 순서 \n",
    "> 1. 주어진 데이터를 기반으로 해서 미지의 데이터를 예측하는 수식 작성\n",
    "> 2. 식에 포함된 변수를 구하기위하여 오차함수를 작성\n",
    "> 3. 오차함수를 최소화 할 수 있도록 파라미터값을 결정"
   ]
  },
  {
   "cell_type": "markdown",
   "metadata": {},
   "source": [
    "**1단계 수식작성**"
   ]
  },
  {
   "cell_type": "code",
   "execution_count": 4,
   "metadata": {},
   "outputs": [],
   "source": [
    "function = w0 + w*X"
   ]
  },
  {
   "cell_type": "markdown",
   "metadata": {},
   "source": [
    "**2단계 오차함수 작성**\n",
    "> * tf.square(x) : x를 제곱함, x*x = x^2\n",
    "> * tf.reduce_mean() : 텐서의 차원에서 요소들의 평균을 구함,(np.mean 과 동일)\n",
    "> <pre><code>x = [[1.,2.] ,[3.,4.],[5.,6.]]</code></pre>\n",
    "> <pre><code>tf.reduce_mean(x)  # 3.5 => (1.5 + 3.5+ 5.5)/3 </code></pre>\n",
    "> <pre><code>tf.reduce_mean(x, 0)  # [3. 4.] => [(1+3+5)/3, (2+4+6)/3] </code></pre>\n",
    "> <pre><code>tf.reduce_mean(x, 1)  # [1.5 3.5 5.5] => [(1+2)/2 (3+4)/2 (5+6)/2] </code></pre>\n",
    "\n",
    "> * tf.reduce_sum() : 텐서의 차원에서 요소들의 합\n",
    "> <pre><code>x = [[1,2,3],[4,5,6]]</code></pre>\n",
    "> <pre><code>tf.reduce_sum(x) # 21 => (1+2+3+4+5+6) </code></pre>\n",
    "> <pre><code>tf.reduce_sum(x,0) # [5 7 9] =>[(1+4),(2+5),(3+9)] </code></pre>\n",
    "> <pre><code>tf.reduce_sum(x,1) #[6 15] => [(1+2+3),(4+5+6)] </code></pre>"
   ]
  },
  {
   "cell_type": "code",
   "execution_count": 5,
   "metadata": {},
   "outputs": [],
   "source": [
    "# 제곱오차 형태의 손실 함수 작성\n",
    "costFunction = tf.reduce_mean(tf.square(function - Y))"
   ]
  },
  {
   "cell_type": "markdown",
   "metadata": {},
   "source": [
    "** 3단계 최적화 과정을 통해 파라미터 값을 결정**"
   ]
  },
  {
   "cell_type": "code",
   "execution_count": 6,
   "metadata": {},
   "outputs": [],
   "source": [
    "#trainOptimizer = tf.train.AdamOptimizer(learning_rate = 0.001)\n",
    "trainOptimizer = tf.train.GradientDescentOptimizer(learning_rate = 0.1)\n",
    "train = trainOptimizer.minimize(costFunction)"
   ]
  },
  {
   "cell_type": "markdown",
   "metadata": {},
   "source": [
    "세션 정의 및 변수 초기화"
   ]
  },
  {
   "cell_type": "code",
   "execution_count": 7,
   "metadata": {},
   "outputs": [],
   "source": [
    "sess = tf.Session()\n",
    "sess.run(tf.global_variables_initializer())"
   ]
  },
  {
   "cell_type": "markdown",
   "metadata": {},
   "source": [
    "100번의 학습 과정을통해 손실 값 출력"
   ]
  },
  {
   "cell_type": "code",
   "execution_count": 8,
   "metadata": {},
   "outputs": [
    {
     "name": "stdout",
     "output_type": "stream",
     "text": [
      "Step : 10, cost(loss) : 0.973418 \n",
      "Step : 20, cost(loss) : 0.685366 \n",
      "Step : 30, cost(loss) : 0.543983 \n",
      "Step : 40, cost(loss) : 0.467008 \n",
      "Step : 50, cost(loss) : 0.425096 \n",
      "Step : 60, cost(loss) : 0.402276 \n",
      "Step : 70, cost(loss) : 0.389851 \n",
      "Step : 80, cost(loss) : 0.383086 \n",
      "Step : 90, cost(loss) : 0.379403 \n",
      "Step : 100, cost(loss) : 0.377397 \n"
     ]
    }
   ],
   "source": [
    "itrNum = 0\n",
    "\n",
    "for step in range(100):\n",
    "    itrNum += 1\n",
    "    trainValue,costFunctionValue = sess.run([train, costFunction], feed_dict = {X:xData, Y:yData})\n",
    "    if (itrNum % 10 == 0) :\n",
    "        print (\"Step : %d, cost(loss) : %f \" %(itrNum, costFunctionValue))"
   ]
  },
  {
   "cell_type": "markdown",
   "metadata": {},
   "source": [
    "변수 학습을 통해 결정된 w, w0 파라미터 값 확인"
   ]
  },
  {
   "cell_type": "code",
   "execution_count": 9,
   "metadata": {},
   "outputs": [
    {
     "name": "stdout",
     "output_type": "stream",
     "text": [
      "[3.4604714] [-0.8837808]\n"
     ]
    }
   ],
   "source": [
    "wValue = sess.run(w)\n",
    "w0Value = sess.run(w0)\n",
    "\n",
    "print (wValue, w0Value)"
   ]
  },
  {
   "cell_type": "markdown",
   "metadata": {},
   "source": [
    "예측값을 출력 "
   ]
  },
  {
   "cell_type": "code",
   "execution_count": 10,
   "metadata": {},
   "outputs": [
    {
     "name": "stdout",
     "output_type": "stream",
     "text": [
      "예측값 :  [33.720932]\n"
     ]
    }
   ],
   "source": [
    "print (\"예측값 : \",sess.run(function, feed_dict = {X:10}))"
   ]
  },
  {
   "cell_type": "code",
   "execution_count": null,
   "metadata": {},
   "outputs": [],
   "source": []
  }
 ],
 "metadata": {
  "kernelspec": {
   "display_name": "Python 3",
   "language": "python",
   "name": "python3"
  },
  "language_info": {
   "codemirror_mode": {
    "name": "ipython",
    "version": 3
   },
   "file_extension": ".py",
   "mimetype": "text/x-python",
   "name": "python",
   "nbconvert_exporter": "python",
   "pygments_lexer": "ipython3",
   "version": "3.6.5"
  }
 },
 "nbformat": 4,
 "nbformat_minor": 2
}
