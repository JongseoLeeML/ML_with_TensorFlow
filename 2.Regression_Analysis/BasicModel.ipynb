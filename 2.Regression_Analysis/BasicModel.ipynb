{
 "cells": [
  {
   "cell_type": "markdown",
   "metadata": {},
   "source": [
    "# 기본모델 (회귀분석)"
   ]
  },
  {
   "cell_type": "code",
   "execution_count": 1,
   "metadata": {},
   "outputs": [],
   "source": [
    "import tensorflow as tf\n",
    "import numpy as np\n",
    "import matplotlib.pyplot as plt\n",
    "import pandas as pd"
   ]
  },
  {
   "cell_type": "code",
   "execution_count": 2,
   "metadata": {},
   "outputs": [],
   "source": [
    "xData = np.array([1,2,3,4])\n",
    "xData_2 = xData.reshape([4,1])\n",
    "yData = np.array([3,5,10,13])"
   ]
  },
  {
   "cell_type": "code",
   "execution_count": 3,
   "metadata": {},
   "outputs": [],
   "source": [
    "w = tf.Variable(tf.random_uniform([1]))\n",
    "w0 = tf.Variable(tf.random_uniform([1]))\n",
    "\n",
    "X = tf.placeholder(tf.float32)\n",
    "Y = tf.placeholder(tf.float32)"
   ]
  },
  {
   "cell_type": "code",
   "execution_count": 4,
   "metadata": {},
   "outputs": [],
   "source": [
    "function = w0 + w*X\n",
    "# tf.square -> x*x = x^2\n",
    "costFunction = tf.reduce_mean(tf.square(function - Y))\n",
    "trainOptimizer = tf.train.GradientDescentOptimizer(learning_rate = 0.1)\n",
    "train = trainOptimizer.minimize(costFunction)"
   ]
  },
  {
   "cell_type": "code",
   "execution_count": 5,
   "metadata": {},
   "outputs": [],
   "source": [
    "sess = tf.Session()\n",
    "sess.run(tf.global_variables_initializer())"
   ]
  },
  {
   "cell_type": "code",
   "execution_count": 6,
   "metadata": {},
   "outputs": [
    {
     "name": "stdout",
     "output_type": "stream",
     "text": [
      "Step : 10, cost(loss) : 1.030404 \n",
      "Step : 20, cost(loss) : 0.711714 \n",
      "Step : 30, cost(loss) : 0.558327 \n",
      "Step : 40, cost(loss) : 0.474818 \n",
      "Step : 50, cost(loss) : 0.429348 \n",
      "Step : 60, cost(loss) : 0.404592 \n",
      "Step : 70, cost(loss) : 0.391112 \n",
      "Step : 80, cost(loss) : 0.383773 \n",
      "Step : 90, cost(loss) : 0.379776 \n",
      "Step : 100, cost(loss) : 0.377601 \n"
     ]
    }
   ],
   "source": [
    "itrNum = 0\n",
    "\n",
    "for step in range(100):\n",
    "    itrNum += 1\n",
    "    trainValue,costFunctionValue = sess.run([train, costFunction], feed_dict = {X:xData, Y:yData})\n",
    "    if (itrNum % 10 == 0) :\n",
    "        print (\"Step : %d, cost(loss) : %f \" %(itrNum, costFunctionValue))"
   ]
  },
  {
   "cell_type": "code",
   "execution_count": 7,
   "metadata": {},
   "outputs": [
    {
     "name": "stdout",
     "output_type": "stream",
     "text": [
      "[3.4588277]\n"
     ]
    }
   ],
   "source": [
    "wValue = sess.run(w)\n",
    "print (wValue)"
   ]
  },
  {
   "cell_type": "code",
   "execution_count": 8,
   "metadata": {},
   "outputs": [
    {
     "name": "stdout",
     "output_type": "stream",
     "text": [
      "예측 1 :  [33.709328]\n"
     ]
    }
   ],
   "source": [
    "print (\"예측 1 : \",sess.run(function, feed_dict = {X:10}))"
   ]
  },
  {
   "cell_type": "code",
   "execution_count": 9,
   "metadata": {},
   "outputs": [],
   "source": [
    "def predict(x):\n",
    "    result = 0.0\n",
    "    for n in range(0,4):\n",
    "        result += wValue * x\n",
    "    return result"
   ]
  },
  {
   "cell_type": "code",
   "execution_count": 10,
   "metadata": {},
   "outputs": [
    {
     "data": {
      "text/plain": [
       "[<matplotlib.lines.Line2D at 0x11b7bba8>]"
      ]
     },
     "execution_count": 10,
     "metadata": {},
     "output_type": "execute_result"
    },
    {
     "data": {
      "image/png": "[encoded data removed]",
      "text/plain": [
       "<Figure size 432x288 with 1 Axes>"
      ]
     },
     "metadata": {},
     "output_type": "display_data"
    }
   ],
   "source": [
    "fig = plt.figure()\n",
    "#add_subplot(x행, y열, 몇번째 plot 번호)\n",
    "subplot = fig.add_subplot(1,1,1)\n",
    "subplot.set_xlim(0,10)\n",
    "subplot.set_ylim(0,20)\n",
    "subplot.scatter(range(1,5), xData_2)\n",
    "linex = np.linspace(1,4,100)\n",
    "liney = predict(linex)\n",
    "subplot.plot(linex, liney)"
   ]
  },
  {
   "cell_type": "code",
   "execution_count": null,
   "metadata": {},
   "outputs": [],
   "source": []
  }
 ],
 "metadata": {
  "kernelspec": {
   "display_name": "Python 3",
   "language": "python",
   "name": "python3"
  },
  "language_info": {
   "codemirror_mode": {
    "name": "ipython",
    "version": 3
   },
   "file_extension": ".py",
   "mimetype": "text/x-python",
   "name": "python",
   "nbconvert_exporter": "python",
   "pygments_lexer": "ipython3",
   "version": "3.6.5"
  }
 },
 "nbformat": 4,
 "nbformat_minor": 2
}
