{
 "cells": [
  {
   "cell_type": "markdown",
   "metadata": {},
   "source": [
    "필요한 라이브러리 모듈 가져오기"
   ]
  },
  {
   "cell_type": "code",
   "execution_count": 1,
   "metadata": {},
   "outputs": [],
   "source": [
    "import tensorflow as tf\n",
    "import numpy as np\n",
    "import matplotlib.pyplot as plt"
   ]
  },
  {
   "cell_type": "markdown",
   "metadata": {},
   "source": [
    "1년동안 사용한 전기 사용량 데이터(월단위) "
   ]
  },
  {
   "cell_type": "code",
   "execution_count": 2,
   "metadata": {},
   "outputs": [],
   "source": [
    "train_t = np .array([127, 129, 130, 137, 135, 146, 157, 162, 158, 152, 155, 144])\n",
    "train_t = train_t.reshape([12,1])"
   ]
  },
  {
   "cell_type": "markdown",
   "metadata": {},
   "source": [
    "* 1년동안 사용한 전기량 데이터 그래프"
   ]
  },
  {
   "cell_type": "code",
   "execution_count": 3,
   "metadata": {},
   "outputs": [
    {
     "data": {
      "text/plain": [
       "<matplotlib.collections.PathCollection at 0x13a81198>"
      ]
     },
     "execution_count": 3,
     "metadata": {},
     "output_type": "execute_result"
    },
    {
     "data": {
      "image/png": "[encoded data removed]",
      "text/plain": [
       "<Figure size 432x288 with 1 Axes>"
      ]
     },
     "metadata": {},
     "output_type": "display_data"
    }
   ],
   "source": [
    "fig = plt.figure()\n",
    "subplot = fig.add_subplot(1,1,1)\n",
    "subplot.set_xlim(0,13)\n",
    "subplot.scatter(range(1,13), train_t)"
   ]
  },
  {
   "cell_type": "markdown",
   "metadata": {},
   "source": [
    "학습을 위한 x 데이터를 넣을 배열 선언(12개월 데이터로 구성)"
   ]
  },
  {
   "cell_type": "code",
   "execution_count": 4,
   "metadata": {},
   "outputs": [
    {
     "name": "stdout",
     "output_type": "stream",
     "text": [
      "[[0. 0. 0. 0. 0.]\n",
      " [0. 0. 0. 0. 0.]\n",
      " [0. 0. 0. 0. 0.]\n",
      " [0. 0. 0. 0. 0.]\n",
      " [0. 0. 0. 0. 0.]\n",
      " [0. 0. 0. 0. 0.]\n",
      " [0. 0. 0. 0. 0.]\n",
      " [0. 0. 0. 0. 0.]\n",
      " [0. 0. 0. 0. 0.]\n",
      " [0. 0. 0. 0. 0.]\n",
      " [0. 0. 0. 0. 0.]\n",
      " [0. 0. 0. 0. 0.]]\n"
     ]
    }
   ],
   "source": [
    "train_x = np.zeros([12,5])\n",
    "print (train_x)"
   ]
  },
  {
   "cell_type": "markdown",
   "metadata": {},
   "source": [
    "Placeholder로 트레이닝 월별 데이터 선언"
   ]
  },
  {
   "cell_type": "code",
   "execution_count": 5,
   "metadata": {},
   "outputs": [],
   "source": [
    "x = tf.placeholder(tf.float32, [None,5])"
   ]
  },
  {
   "cell_type": "markdown",
   "metadata": {},
   "source": [
    "최적화 파리미터 변수 선언"
   ]
  },
  {
   "cell_type": "code",
   "execution_count": 6,
   "metadata": {},
   "outputs": [
    {
     "name": "stdout",
     "output_type": "stream",
     "text": [
      "<tf.Variable 'Variable:0' shape=(5, 1) dtype=float32_ref>\n"
     ]
    }
   ],
   "source": [
    "w = tf.Variable(tf.zeros([5,1]))\n",
    "print (w)"
   ]
  },
  {
   "cell_type": "markdown",
   "metadata": {},
   "source": [
    "Placeholder로 해당월의 실제 사용량 선언"
   ]
  },
  {
   "cell_type": "code",
   "execution_count": 7,
   "metadata": {},
   "outputs": [
    {
     "name": "stdout",
     "output_type": "stream",
     "text": [
      "Tensor(\"Placeholder_1:0\", shape=(?, 1), dtype=float32)\n"
     ]
    }
   ],
   "source": [
    "t = tf.placeholder(tf.float32,[None,1])\n",
    "print (t)"
   ]
  },
  {
   "cell_type": "markdown",
   "metadata": {},
   "source": [
    "**1단계 수식작성** 수식에 의해 계산된 결과값(수식에 의한 예측된 전기사용량)\n",
    "> * tf.matmul(a,b) : a * b "
   ]
  },
  {
   "cell_type": "code",
   "execution_count": 8,
   "metadata": {},
   "outputs": [
    {
     "name": "stdout",
     "output_type": "stream",
     "text": [
      "Tensor(\"MatMul:0\", shape=(?, 1), dtype=float32)\n"
     ]
    }
   ],
   "source": [
    "y = tf.matmul(x,w)\n",
    "print (y)"
   ]
  },
  {
   "cell_type": "markdown",
   "metadata": {},
   "source": [
    "**2단계 오차함수 작성**\n",
    "> * tf.square(x) : x를 제곱함, x*x = x^2\n",
    "> * tf.reduce_sum() : 텐서의 차원에서 요소들의 합"
   ]
  },
  {
   "cell_type": "code",
   "execution_count": 9,
   "metadata": {},
   "outputs": [],
   "source": [
    "# 오차 제곱의 합\n",
    "#costFunction = tf.reduce_sum(tf.square(y-t))\n",
    "#오차 제곱의 평균\n",
    "costFunction = tf.reduce_mean(tf.square(y-t))"
   ]
  },
  {
   "cell_type": "markdown",
   "metadata": {},
   "source": [
    "**3단계 최적화 과정을 통해 파라미터 값을 결정 **\n",
    "> tf.train.GradientDescentOptimizer(learning_rate = 0.1)\n",
    "> * learning_rate : 학습속도 (기본값 0.1)\n",
    "\n",
    "> tf.train.AdamOptimizer(learning_rate = 0.001)\n",
    "> * learning_rate : 학습속도 (기본값 0.001)\n",
    "\n",
    "> 최적화 알고리즘 참고 자료 : http://shuuki4.github.io/deep%20learning/2016/05/20/Gradient-Descent-Algorithm-Overview.html"
   ]
  },
  {
   "cell_type": "code",
   "execution_count": 10,
   "metadata": {},
   "outputs": [],
   "source": [
    "trainOptimizer = tf.train.AdamOptimizer(learning_rate = 0.002)\n",
    "#trainOptimizer = tf.train.GradientDescentOptimizer(learning_rate = 0.1) \n",
    "train = trainOptimizer.minimize(costFunction)"
   ]
  },
  {
   "cell_type": "markdown",
   "metadata": {},
   "source": [
    "세션 정의 및 변수 초기화"
   ]
  },
  {
   "cell_type": "code",
   "execution_count": 11,
   "metadata": {},
   "outputs": [],
   "source": [
    "sess = tf.Session()\n",
    "sess.run(tf.global_variables_initializer())\n",
    "#with tf.Session() as sess:\n",
    "#    sess.run(tf.global_variables_initializer())"
   ]
  },
  {
   "cell_type": "markdown",
   "metadata": {},
   "source": [
    "학습을 위한 x 데이터 값 생성"
   ]
  },
  {
   "cell_type": "code",
   "execution_count": 12,
   "metadata": {},
   "outputs": [
    {
     "name": "stdout",
     "output_type": "stream",
     "text": [
      "( 0 , 0 )\t 1 \t 0 \t month ^ n =  1.0\n",
      "( 0 , 1 )\t 1 \t 1 \t month ^ n =  1.0\n",
      "( 0 , 2 )\t 1 \t 2 \t month ^ n =  1.0\n",
      "( 0 , 3 )\t 1 \t 3 \t month ^ n =  1.0\n",
      "( 0 , 4 )\t 1 \t 4 \t month ^ n =  1.0\n",
      "( 1 , 0 )\t 2 \t 0 \t month ^ n =  1.0\n",
      "( 1 , 1 )\t 2 \t 1 \t month ^ n =  2.0\n",
      "( 1 , 2 )\t 2 \t 2 \t month ^ n =  4.0\n",
      "( 1 , 3 )\t 2 \t 3 \t month ^ n =  8.0\n",
      "( 1 , 4 )\t 2 \t 4 \t month ^ n =  16.0\n",
      "( 2 , 0 )\t 3 \t 0 \t month ^ n =  1.0\n",
      "( 2 , 1 )\t 3 \t 1 \t month ^ n =  3.0\n",
      "( 2 , 2 )\t 3 \t 2 \t month ^ n =  9.0\n",
      "( 2 , 3 )\t 3 \t 3 \t month ^ n =  27.0\n",
      "( 2 , 4 )\t 3 \t 4 \t month ^ n =  81.0\n",
      "( 3 , 0 )\t 4 \t 0 \t month ^ n =  1.0\n",
      "( 3 , 1 )\t 4 \t 1 \t month ^ n =  4.0\n",
      "( 3 , 2 )\t 4 \t 2 \t month ^ n =  16.0\n",
      "( 3 , 3 )\t 4 \t 3 \t month ^ n =  64.0\n",
      "( 3 , 4 )\t 4 \t 4 \t month ^ n =  256.0\n",
      "( 4 , 0 )\t 5 \t 0 \t month ^ n =  1.0\n",
      "( 4 , 1 )\t 5 \t 1 \t month ^ n =  5.0\n",
      "( 4 , 2 )\t 5 \t 2 \t month ^ n =  25.0\n",
      "( 4 , 3 )\t 5 \t 3 \t month ^ n =  125.0\n",
      "( 4 , 4 )\t 5 \t 4 \t month ^ n =  625.0\n",
      "( 5 , 0 )\t 6 \t 0 \t month ^ n =  1.0\n",
      "( 5 , 1 )\t 6 \t 1 \t month ^ n =  6.0\n",
      "( 5 , 2 )\t 6 \t 2 \t month ^ n =  36.0\n",
      "( 5 , 3 )\t 6 \t 3 \t month ^ n =  216.0\n",
      "( 5 , 4 )\t 6 \t 4 \t month ^ n =  1296.0\n",
      "( 6 , 0 )\t 7 \t 0 \t month ^ n =  1.0\n",
      "( 6 , 1 )\t 7 \t 1 \t month ^ n =  7.0\n",
      "( 6 , 2 )\t 7 \t 2 \t month ^ n =  49.0\n",
      "( 6 , 3 )\t 7 \t 3 \t month ^ n =  343.0\n",
      "( 6 , 4 )\t 7 \t 4 \t month ^ n =  2401.0\n",
      "( 7 , 0 )\t 8 \t 0 \t month ^ n =  1.0\n",
      "( 7 , 1 )\t 8 \t 1 \t month ^ n =  8.0\n",
      "( 7 , 2 )\t 8 \t 2 \t month ^ n =  64.0\n",
      "( 7 , 3 )\t 8 \t 3 \t month ^ n =  512.0\n",
      "( 7 , 4 )\t 8 \t 4 \t month ^ n =  4096.0\n",
      "( 8 , 0 )\t 9 \t 0 \t month ^ n =  1.0\n",
      "( 8 , 1 )\t 9 \t 1 \t month ^ n =  9.0\n",
      "( 8 , 2 )\t 9 \t 2 \t month ^ n =  81.0\n",
      "( 8 , 3 )\t 9 \t 3 \t month ^ n =  729.0\n",
      "( 8 , 4 )\t 9 \t 4 \t month ^ n =  6561.0\n",
      "( 9 , 0 )\t 10 \t 0 \t month ^ n =  1.0\n",
      "( 9 , 1 )\t 10 \t 1 \t month ^ n =  10.0\n",
      "( 9 , 2 )\t 10 \t 2 \t month ^ n =  100.0\n",
      "( 9 , 3 )\t 10 \t 3 \t month ^ n =  1000.0\n",
      "( 9 , 4 )\t 10 \t 4 \t month ^ n =  10000.0\n",
      "( 10 , 0 )\t 11 \t 0 \t month ^ n =  1.0\n",
      "( 10 , 1 )\t 11 \t 1 \t month ^ n =  11.0\n",
      "( 10 , 2 )\t 11 \t 2 \t month ^ n =  121.0\n",
      "( 10 , 3 )\t 11 \t 3 \t month ^ n =  1331.0\n",
      "( 10 , 4 )\t 11 \t 4 \t month ^ n =  14641.0\n",
      "( 11 , 0 )\t 12 \t 0 \t month ^ n =  1.0\n",
      "( 11 , 1 )\t 12 \t 1 \t month ^ n =  12.0\n",
      "( 11 , 2 )\t 12 \t 2 \t month ^ n =  144.0\n",
      "( 11 , 3 )\t 12 \t 3 \t month ^ n =  1728.0\n",
      "( 11 , 4 )\t 12 \t 4 \t month ^ n =  20736.0\n"
     ]
    }
   ],
   "source": [
    "for row, month in enumerate(range(1,13)):\n",
    "    for col, n in enumerate(range(0,5)):\n",
    "        train_x[row][col] = month**n\n",
    "        print (\"(\",row,\",\",col,\")\\t\",month,\"\\t\",n,\"\\t\",\"month ^ n = \",train_x[row][col])"
   ]
  },
  {
   "cell_type": "markdown",
   "metadata": {},
   "source": [
    "100,000번의 학습 과정을통해 손실 값 출력"
   ]
  },
  {
   "cell_type": "code",
   "execution_count": null,
   "metadata": {},
   "outputs": [
    {
     "name": "stdout",
     "output_type": "stream",
     "text": [
      "Step : 10000, cost(loss) : 1114.788086 \n",
      "Step : 20000, cost(loss) : 570.025330 \n",
      "Step : 30000, cost(loss) : 247.058395 \n",
      "Step : 40000, cost(loss) : 93.037254 \n",
      "Step : 50000, cost(loss) : 37.191383 \n"
     ]
    }
   ],
   "source": [
    "itrNum = 0\n",
    "for _ in range(100000) :\n",
    "    itrNum = itrNum + 1\n",
    "    trainValue,costFunctionValue = sess.run([train, costFunction],feed_dict = {x: train_x, t : train_t})\n",
    "    if (itrNum % 10000 == 0) :\n",
    "        print (\"Step : %d, cost(loss) : %f \" %(itrNum, costFunctionValue))    "
   ]
  },
  {
   "cell_type": "markdown",
   "metadata": {},
   "source": [
    "다시한번 100,000번의 학습 과정을통해 손실 값 출력"
   ]
  },
  {
   "cell_type": "code",
   "execution_count": null,
   "metadata": {},
   "outputs": [],
   "source": [
    "itrNum = 0\n",
    "for _ in range(100000):\n",
    "    itrNum = itrNum + 1\n",
    "    trainValue,costFunctionValue = sess.run([train, costFunction],feed_dict = {x: train_x, t : train_t})\n",
    "    if (itrNum % 10000 == 0) :\n",
    "        print (\"Step : %d, cost(loss) : %f \" %(itrNum, costFunctionValue))    "
   ]
  },
  {
   "cell_type": "markdown",
   "metadata": {},
   "source": [
    "변수 학습을 통해 결정된 w파라미터 값 확인"
   ]
  },
  {
   "cell_type": "code",
   "execution_count": null,
   "metadata": {},
   "outputs": [],
   "source": [
    "wValue = sess.run(w)\n",
    "print (wValue)"
   ]
  },
  {
   "cell_type": "markdown",
   "metadata": {},
   "source": [
    "학습된 모델 그래프 "
   ]
  },
  {
   "cell_type": "code",
   "execution_count": null,
   "metadata": {
    "scrolled": true
   },
   "outputs": [],
   "source": [
    "def predict(x) :\n",
    "    result = 0.0\n",
    "    for n in range(0,5):\n",
    "        result +=wValue[n][0] * x**n\n",
    "    return result\n",
    "\n",
    "fig = plt.figure()\n",
    "subplot = fig.add_subplot(1,1,1)\n",
    "subplot.set_xlim(1,12)\n",
    "subplot.scatter(range(1,13), train_t)\n",
    "linex = np.linspace(1,12,1000)\n",
    "liney = predict(linex)\n",
    "subplot.plot(linex, liney)"
   ]
  },
  {
   "cell_type": "code",
   "execution_count": null,
   "metadata": {},
   "outputs": [],
   "source": []
  }
 ],
 "metadata": {
  "kernelspec": {
   "display_name": "Python 3",
   "language": "python",
   "name": "python3"
  },
  "language_info": {
   "codemirror_mode": {
    "name": "ipython",
    "version": 3
   },
   "file_extension": ".py",
   "mimetype": "text/x-python",
   "name": "python",
   "nbconvert_exporter": "python",
   "pygments_lexer": "ipython3",
   "version": "3.6.5"
  }
 },
 "nbformat": 4,
 "nbformat_minor": 2
}
