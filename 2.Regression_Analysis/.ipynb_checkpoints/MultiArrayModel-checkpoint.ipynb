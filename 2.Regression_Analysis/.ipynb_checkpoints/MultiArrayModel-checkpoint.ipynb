{
 "cells": [
  {
   "cell_type": "code",
   "execution_count": 1,
   "metadata": {},
   "outputs": [],
   "source": [
    "import tensorflow as tf\n",
    "import numpy as np\n",
    "import matplotlib.pyplot as plt"
   ]
  },
  {
   "cell_type": "code",
   "execution_count": 2,
   "metadata": {},
   "outputs": [],
   "source": [
    "#train_t = np.array([112340,103360,90370,67010,17680,8670,7110,7020,6340,7120,22790,58110])\n",
    "#train_t = np .array([5.2, 5.7, 8.6, 14.9, 18.2, 20.4, 25.5, 26.4, 22.8, 17.5, 11.1, 6.6])\n",
    "#train_t = np .array([127, 138, 118, 137, 99, 131, 157, 271, 158, 132, 155, 152])\n",
    "train_t = np .array([127, 138, 130, 137, 135, 146, 157, 162, 158, 152, 155, 144])\n",
    "train_t = train_t.reshape([12,1])\n",
    "train_x = np.zeros([12,5])"
   ]
  },
  {
   "cell_type": "code",
   "execution_count": 3,
   "metadata": {},
   "outputs": [],
   "source": [
    "# 트레이닝 데이터 => 주어진 데이터로 구성 '월'\n",
    "x = tf.placeholder(tf.float32, [None,5])"
   ]
  },
  {
   "cell_type": "code",
   "execution_count": 4,
   "metadata": {},
   "outputs": [],
   "source": [
    "# 최적화 파라미터 \n",
    "w = tf.Variable(tf.zeros([5,1]))"
   ]
  },
  {
   "cell_type": "code",
   "execution_count": 5,
   "metadata": {},
   "outputs": [],
   "source": [
    "# 그래프 함수에 의해 계산된 결과값 \n",
    "# tt.matmul(a,b) : a * b \n",
    "y = tf.matmul(x,w)"
   ]
  },
  {
   "cell_type": "code",
   "execution_count": 6,
   "metadata": {},
   "outputs": [],
   "source": [
    "#해당월의 실제 사용량\n",
    "t = tf.placeholder(tf.float32,[None,1])"
   ]
  },
  {
   "cell_type": "code",
   "execution_count": 7,
   "metadata": {},
   "outputs": [],
   "source": [
    "costFunction = tf.reduce_sum(tf.square(y-t))"
   ]
  },
  {
   "cell_type": "code",
   "execution_count": 8,
   "metadata": {},
   "outputs": [],
   "source": [
    "# adamOptimizer : 경사하강법\n",
    "trainOptimizer = tf.train.AdamOptimizer(learning_rate = 0.001)\n",
    "#trainOptimizer = tf.train.GradientDescentOptimizer(learning_rate = 0.1)\n",
    "train = trainOptimizer.minimize(costFunction)"
   ]
  },
  {
   "cell_type": "code",
   "execution_count": 9,
   "metadata": {},
   "outputs": [],
   "source": [
    "sess = tf.Session()\n",
    "sess.run(tf.global_variables_initializer())\n",
    "#with tf.Session() as sess:\n",
    "#    sess.run(tf.global_variables_initializer())"
   ]
  },
  {
   "cell_type": "code",
   "execution_count": 20,
   "metadata": {},
   "outputs": [
    {
     "name": "stdout",
     "output_type": "stream",
     "text": [
      "row :  0  month :  1\n",
      "col :  0  n :  0\n",
      "==> 1.0\n",
      "col :  1  n :  1\n",
      "==> 1.0\n",
      "col :  2  n :  2\n",
      "==> 1.0\n",
      "col :  3  n :  3\n",
      "==> 1.0\n",
      "col :  4  n :  4\n",
      "==> 1.0\n",
      "row :  1  month :  2\n",
      "col :  0  n :  0\n",
      "==> 1.0\n",
      "col :  1  n :  1\n",
      "==> 2.0\n",
      "col :  2  n :  2\n",
      "==> 4.0\n",
      "col :  3  n :  3\n",
      "==> 8.0\n",
      "col :  4  n :  4\n",
      "==> 16.0\n",
      "row :  2  month :  3\n",
      "col :  0  n :  0\n",
      "==> 1.0\n",
      "col :  1  n :  1\n",
      "==> 3.0\n",
      "col :  2  n :  2\n",
      "==> 9.0\n",
      "col :  3  n :  3\n",
      "==> 27.0\n",
      "col :  4  n :  4\n",
      "==> 81.0\n",
      "row :  3  month :  4\n",
      "col :  0  n :  0\n",
      "==> 1.0\n",
      "col :  1  n :  1\n",
      "==> 4.0\n",
      "col :  2  n :  2\n",
      "==> 16.0\n",
      "col :  3  n :  3\n",
      "==> 64.0\n",
      "col :  4  n :  4\n",
      "==> 256.0\n",
      "row :  4  month :  5\n",
      "col :  0  n :  0\n",
      "==> 1.0\n",
      "col :  1  n :  1\n",
      "==> 5.0\n",
      "col :  2  n :  2\n",
      "==> 25.0\n",
      "col :  3  n :  3\n",
      "==> 125.0\n",
      "col :  4  n :  4\n",
      "==> 625.0\n",
      "row :  5  month :  6\n",
      "col :  0  n :  0\n",
      "==> 1.0\n",
      "col :  1  n :  1\n",
      "==> 6.0\n",
      "col :  2  n :  2\n",
      "==> 36.0\n",
      "col :  3  n :  3\n",
      "==> 216.0\n",
      "col :  4  n :  4\n",
      "==> 1296.0\n",
      "row :  6  month :  7\n",
      "col :  0  n :  0\n",
      "==> 1.0\n",
      "col :  1  n :  1\n",
      "==> 7.0\n",
      "col :  2  n :  2\n",
      "==> 49.0\n",
      "col :  3  n :  3\n",
      "==> 343.0\n",
      "col :  4  n :  4\n",
      "==> 2401.0\n",
      "row :  7  month :  8\n",
      "col :  0  n :  0\n",
      "==> 1.0\n",
      "col :  1  n :  1\n",
      "==> 8.0\n",
      "col :  2  n :  2\n",
      "==> 64.0\n",
      "col :  3  n :  3\n",
      "==> 512.0\n",
      "col :  4  n :  4\n",
      "==> 4096.0\n",
      "row :  8  month :  9\n",
      "col :  0  n :  0\n",
      "==> 1.0\n",
      "col :  1  n :  1\n",
      "==> 9.0\n",
      "col :  2  n :  2\n",
      "==> 81.0\n",
      "col :  3  n :  3\n",
      "==> 729.0\n",
      "col :  4  n :  4\n",
      "==> 6561.0\n",
      "row :  9  month :  10\n",
      "col :  0  n :  0\n",
      "==> 1.0\n",
      "col :  1  n :  1\n",
      "==> 10.0\n",
      "col :  2  n :  2\n",
      "==> 100.0\n",
      "col :  3  n :  3\n",
      "==> 1000.0\n",
      "col :  4  n :  4\n",
      "==> 10000.0\n",
      "row :  10  month :  11\n",
      "col :  0  n :  0\n",
      "==> 1.0\n",
      "col :  1  n :  1\n",
      "==> 11.0\n",
      "col :  2  n :  2\n",
      "==> 121.0\n",
      "col :  3  n :  3\n",
      "==> 1331.0\n",
      "col :  4  n :  4\n",
      "==> 14641.0\n",
      "row :  11  month :  12\n",
      "col :  0  n :  0\n",
      "==> 1.0\n",
      "col :  1  n :  1\n",
      "==> 12.0\n",
      "col :  2  n :  2\n",
      "==> 144.0\n",
      "col :  3  n :  3\n",
      "==> 1728.0\n",
      "col :  4  n :  4\n",
      "==> 20736.0\n"
     ]
    }
   ],
   "source": [
    "# enumerate => index 와 값을 반환해줌 \n",
    "for row, month in enumerate(range(1,13)):\n",
    "    #print (\"row : \",row,\" month : \",month)\n",
    "    for col, n in enumerate(range(0,5)):\n",
    "        #print(\"col : \",col,\" n : \", n)\n",
    "        train_x[row][col] = month**n\n",
    "        print (\"==>\",train_x[row][col])\n",
    "\n"
   ]
  },
  {
   "cell_type": "code",
   "execution_count": 11,
   "metadata": {},
   "outputs": [
    {
     "name": "stdout",
     "output_type": "stream",
     "text": [
      "Step : 10000, cost(loss) : 25323.960938 \n",
      "Step : 20000, cost(loss) : 13695.889648 \n",
      "Step : 30000, cost(loss) : 9229.721680 \n",
      "Step : 40000, cost(loss) : 5730.923828 \n",
      "Step : 50000, cost(loss) : 3349.654785 \n",
      "Step : 60000, cost(loss) : 1912.038452 \n",
      "Step : 70000, cost(loss) : 1126.856567 \n",
      "Step : 80000, cost(loss) : 740.062683 \n",
      "Step : 90000, cost(loss) : 579.349182 \n",
      "Step : 100000, cost(loss) : 530.726990 \n"
     ]
    }
   ],
   "source": [
    "itrNum = 0\n",
    "for _ in range(100000):\n",
    "    itrNum = itrNum + 1\n",
    "    trainValue,costFunctionValue = sess.run([train, costFunction],feed_dict = {x: train_x, t : train_t})\n",
    "    if (itrNum % 10000 == 0) :\n",
    "        print (\"Step : %d, cost(loss) : %f \" %(itrNum, costFunctionValue))    "
   ]
  },
  {
   "cell_type": "code",
   "execution_count": 12,
   "metadata": {},
   "outputs": [
    {
     "name": "stdout",
     "output_type": "stream",
     "text": [
      "Step : 10000, cost(loss) : 506.571991 \n",
      "Step : 20000, cost(loss) : 484.715485 \n",
      "Step : 30000, cost(loss) : 464.584106 \n",
      "Step : 40000, cost(loss) : 445.939758 \n",
      "Step : 50000, cost(loss) : 428.637085 \n",
      "Step : 60000, cost(loss) : 415.212463 \n",
      "Step : 70000, cost(loss) : 397.846924 \n",
      "Step : 80000, cost(loss) : 384.332947 \n",
      "Step : 90000, cost(loss) : 371.366730 \n",
      "Step : 100000, cost(loss) : 359.590576 \n"
     ]
    }
   ],
   "source": [
    "itrNum = 0\n",
    "for _ in range(100000):\n",
    "    itrNum = itrNum + 1\n",
    "    trainValue,costFunctionValue = sess.run([train, costFunction],feed_dict = {x: train_x, t : train_t})\n",
    "    if (itrNum % 10000 == 0) :\n",
    "        print (\"Step : %d, cost(loss) : %f \" %(itrNum, costFunctionValue))    "
   ]
  },
  {
   "cell_type": "code",
   "execution_count": 13,
   "metadata": {},
   "outputs": [
    {
     "name": "stdout",
     "output_type": "stream",
     "text": [
      "[[ 1.0449473e+02]\n",
      " [ 2.5708975e+01]\n",
      " [-7.3146415e+00]\n",
      " [ 9.2714131e-01]\n",
      " [-3.9610833e-02]]\n"
     ]
    }
   ],
   "source": [
    "wValue = sess.run(w)\n",
    "print (wValue)"
   ]
  },
  {
   "cell_type": "code",
   "execution_count": 14,
   "metadata": {},
   "outputs": [],
   "source": [
    "def predict(x) :\n",
    "    result = 0.0\n",
    "    for n in range(0,5):\n",
    "        result +=wValue[n][0] * x**n\n",
    "    return result"
   ]
  },
  {
   "cell_type": "code",
   "execution_count": 15,
   "metadata": {
    "scrolled": true
   },
   "outputs": [
    {
     "data": {
      "text/plain": [
       "[<matplotlib.lines.Line2D at 0x11af0d30>]"
      ]
     },
     "execution_count": 15,
     "metadata": {},
     "output_type": "execute_result"
    },
    {
     "data": {
      "image/png": "[encoded data removed]",
      "text/plain": [
       "<Figure size 432x288 with 1 Axes>"
      ]
     },
     "metadata": {},
     "output_type": "display_data"
    }
   ],
   "source": [
    "fig = plt.figure()\n",
    "subplot = fig.add_subplot(1,1,1)\n",
    "subplot.set_xlim(1,12)\n",
    "subplot.scatter(range(1,13), train_t)\n",
    "linex = np.linspace(1,12,1000)\n",
    "liney = predict(linex)\n",
    "subplot.plot(linex, liney)"
   ]
  },
  {
   "cell_type": "code",
   "execution_count": 16,
   "metadata": {},
   "outputs": [
    {
     "data": {
      "text/plain": [
       "[<matplotlib.lines.Line2D at 0x11bded30>]"
      ]
     },
     "execution_count": 16,
     "metadata": {},
     "output_type": "execute_result"
    },
    {
     "data": {
      "image/png": "[encoded data removed]",
      "text/plain": [
       "<Figure size 432x288 with 1 Axes>"
      ]
     },
     "metadata": {},
     "output_type": "display_data"
    }
   ],
   "source": [
    "fig = plt.figure()\n",
    "subplot = fig.add_subplot(1,1,1)\n",
    "subplot.set_xlim(1,12)\n",
    "subplot.scatter(range(1,13), train_t)\n",
    "linex = np.linspace(1,12,1000)\n",
    "liney = predict(linex)\n",
    "subplot.plot(linex, liney)"
   ]
  },
  {
   "cell_type": "code",
   "execution_count": null,
   "metadata": {},
   "outputs": [],
   "source": []
  },
  {
   "cell_type": "code",
   "execution_count": null,
   "metadata": {},
   "outputs": [],
   "source": []
  }
 ],
 "metadata": {
  "kernelspec": {
   "display_name": "Python 3",
   "language": "python",
   "name": "python3"
  },
  "language_info": {
   "codemirror_mode": {
    "name": "ipython",
    "version": 3
   },
   "file_extension": ".py",
   "mimetype": "text/x-python",
   "name": "python",
   "nbconvert_exporter": "python",
   "pygments_lexer": "ipython3",
   "version": "3.6.5"
  }
 },
 "nbformat": 4,
 "nbformat_minor": 2
}
